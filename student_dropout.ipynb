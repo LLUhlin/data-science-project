{
 "cells": [
  {
   "cell_type": "markdown",
   "id": "ad2729ba",
   "metadata": {},
   "source": [
    "## PROJ25: Machine Learning Project of Student Dropout Success dataset"
   ]
  },
  {
   "cell_type": "code",
   "execution_count": 1,
   "id": "d572ca2b",
   "metadata": {},
   "outputs": [],
   "source": [
    "# Import libraries\n",
    "import numpy as np\n",
    "import pandas as pd\n",
    "import seaborn as sns\n",
    "import matplotlib.pyplot as plt\n",
    "\n",
    "from collections import Counter\n",
    "\n",
    "from sklearn.metrics import * \n",
    "from sklearn.pipeline import make_pipeline\n",
    "from sklearn.preprocessing import LabelEncoder\n",
    "from sklearn.preprocessing import StandardScaler\n",
    "from sklearn.model_selection import train_test_split\n",
    "from sklearn.model_selection import cross_val_score\n",
    "from sklearn.model_selection import cross_val_predict\n",
    "from sklearn.model_selection import RandomizedSearchCV"
   ]
  },
  {
   "cell_type": "markdown",
   "id": "65213007",
   "metadata": {},
   "source": [
    "# Changes 1\n",
    "1. [Change path](#path-change) Change path to be relative and not dependent on machine\n",
    "2. [Changes in BNB fit](#change-bnb-fit) Change numbering from 14 to 15\n",
    "\n",
    "branch Ludwig"
   ]
  },
  {
   "cell_type": "code",
   "execution_count": 2,
   "id": "5684d91e",
   "metadata": {},
   "outputs": [],
   "source": [
    "import warnings\n",
    "warnings.filterwarnings(\"ignore\", message='Glyph 9?')"
   ]
  },
  {
   "cell_type": "markdown",
   "id": "59ffb6ef",
   "metadata": {},
   "source": [
    "### 1. DATA EXPLORATION (EDA)\n",
    "<a id=\"path-change\"></a>"
   ]
  },
  {
   "cell_type": "code",
   "execution_count": 3,
   "id": "e7f3b4ae",
   "metadata": {},
   "outputs": [],
   "source": [
    "# df = pd.read_csv('/Users/nima/Downloads/PROJ25/gruppuppgift/02_dataset/student_dropout_success/data.csv', sep=';')\n",
    "df = pd.read_csv('./data.csv', sep=';') # Change path to be relative and not dependent on machine"
   ]
  },
  {
   "cell_type": "code",
   "execution_count": 4,
   "id": "51d0b4b5",
   "metadata": {},
   "outputs": [
    {
     "data": {
      "text/plain": [
       "<bound method DataFrame.info of       Marital status  Application mode  Application order  Course  \\\n",
       "0                  1                17                  5     171   \n",
       "1                  1                15                  1    9254   \n",
       "2                  1                 1                  5    9070   \n",
       "3                  1                17                  2    9773   \n",
       "4                  2                39                  1    8014   \n",
       "...              ...               ...                ...     ...   \n",
       "4419               1                 1                  6    9773   \n",
       "4420               1                 1                  2    9773   \n",
       "4421               1                 1                  1    9500   \n",
       "4422               1                 1                  1    9147   \n",
       "4423               1                10                  1    9773   \n",
       "\n",
       "      Daytime/evening attendance\\t  Previous qualification  \\\n",
       "0                                1                       1   \n",
       "1                                1                       1   \n",
       "2                                1                       1   \n",
       "3                                1                       1   \n",
       "4                                0                       1   \n",
       "...                            ...                     ...   \n",
       "4419                             1                       1   \n",
       "4420                             1                       1   \n",
       "4421                             1                       1   \n",
       "4422                             1                       1   \n",
       "4423                             1                       1   \n",
       "\n",
       "      Previous qualification (grade)  Nacionality  Mother's qualification  \\\n",
       "0                              122.0            1                      19   \n",
       "1                              160.0            1                       1   \n",
       "2                              122.0            1                      37   \n",
       "3                              122.0            1                      38   \n",
       "4                              100.0            1                      37   \n",
       "...                              ...          ...                     ...   \n",
       "4419                           125.0            1                       1   \n",
       "4420                           120.0          105                       1   \n",
       "4421                           154.0            1                      37   \n",
       "4422                           180.0            1                      37   \n",
       "4423                           152.0           22                      38   \n",
       "\n",
       "      Father's qualification  ...  Curricular units 2nd sem (credited)  \\\n",
       "0                         12  ...                                    0   \n",
       "1                          3  ...                                    0   \n",
       "2                         37  ...                                    0   \n",
       "3                         37  ...                                    0   \n",
       "4                         38  ...                                    0   \n",
       "...                      ...  ...                                  ...   \n",
       "4419                       1  ...                                    0   \n",
       "4420                       1  ...                                    0   \n",
       "4421                      37  ...                                    0   \n",
       "4422                      37  ...                                    0   \n",
       "4423                      37  ...                                    0   \n",
       "\n",
       "      Curricular units 2nd sem (enrolled)  \\\n",
       "0                                       0   \n",
       "1                                       6   \n",
       "2                                       6   \n",
       "3                                       6   \n",
       "4                                       6   \n",
       "...                                   ...   \n",
       "4419                                    6   \n",
       "4420                                    6   \n",
       "4421                                    8   \n",
       "4422                                    5   \n",
       "4423                                    6   \n",
       "\n",
       "      Curricular units 2nd sem (evaluations)  \\\n",
       "0                                          0   \n",
       "1                                          6   \n",
       "2                                          0   \n",
       "3                                         10   \n",
       "4                                          6   \n",
       "...                                      ...   \n",
       "4419                                       8   \n",
       "4420                                       6   \n",
       "4421                                       9   \n",
       "4422                                       6   \n",
       "4423                                       6   \n",
       "\n",
       "      Curricular units 2nd sem (approved)  Curricular units 2nd sem (grade)  \\\n",
       "0                                       0                          0.000000   \n",
       "1                                       6                         13.666667   \n",
       "2                                       0                          0.000000   \n",
       "3                                       5                         12.400000   \n",
       "4                                       6                         13.000000   \n",
       "...                                   ...                               ...   \n",
       "4419                                    5                         12.666667   \n",
       "4420                                    2                         11.000000   \n",
       "4421                                    1                         13.500000   \n",
       "4422                                    5                         12.000000   \n",
       "4423                                    6                         13.000000   \n",
       "\n",
       "      Curricular units 2nd sem (without evaluations)  Unemployment rate  \\\n",
       "0                                                  0               10.8   \n",
       "1                                                  0               13.9   \n",
       "2                                                  0               10.8   \n",
       "3                                                  0                9.4   \n",
       "4                                                  0               13.9   \n",
       "...                                              ...                ...   \n",
       "4419                                               0               15.5   \n",
       "4420                                               0               11.1   \n",
       "4421                                               0               13.9   \n",
       "4422                                               0                9.4   \n",
       "4423                                               0               12.7   \n",
       "\n",
       "      Inflation rate   GDP    Target  \n",
       "0                1.4  1.74   Dropout  \n",
       "1               -0.3  0.79  Graduate  \n",
       "2                1.4  1.74   Dropout  \n",
       "3               -0.8 -3.12  Graduate  \n",
       "4               -0.3  0.79  Graduate  \n",
       "...              ...   ...       ...  \n",
       "4419             2.8 -4.06  Graduate  \n",
       "4420             0.6  2.02   Dropout  \n",
       "4421            -0.3  0.79   Dropout  \n",
       "4422            -0.8 -3.12  Graduate  \n",
       "4423             3.7 -1.70  Graduate  \n",
       "\n",
       "[4424 rows x 37 columns]>"
      ]
     },
     "execution_count": 4,
     "metadata": {},
     "output_type": "execute_result"
    }
   ],
   "source": [
    "df.info"
   ]
  },
  {
   "cell_type": "code",
   "execution_count": 5,
   "id": "45217a58",
   "metadata": {},
   "outputs": [
    {
     "name": "stdout",
     "output_type": "stream",
     "text": [
      "Index(['Marital status', 'Application mode', 'Application order', 'Course',\n",
      "       'Daytime/evening attendance\\t', 'Previous qualification',\n",
      "       'Previous qualification (grade)', 'Nacionality',\n",
      "       'Mother's qualification', 'Father's qualification',\n",
      "       'Mother's occupation', 'Father's occupation', 'Admission grade',\n",
      "       'Displaced', 'Educational special needs', 'Debtor',\n",
      "       'Tuition fees up to date', 'Gender', 'Scholarship holder',\n",
      "       'Age at enrollment', 'International',\n",
      "       'Curricular units 1st sem (credited)',\n",
      "       'Curricular units 1st sem (enrolled)',\n",
      "       'Curricular units 1st sem (evaluations)',\n",
      "       'Curricular units 1st sem (approved)',\n",
      "       'Curricular units 1st sem (grade)',\n",
      "       'Curricular units 1st sem (without evaluations)',\n",
      "       'Curricular units 2nd sem (credited)',\n",
      "       'Curricular units 2nd sem (enrolled)',\n",
      "       'Curricular units 2nd sem (evaluations)',\n",
      "       'Curricular units 2nd sem (approved)',\n",
      "       'Curricular units 2nd sem (grade)',\n",
      "       'Curricular units 2nd sem (without evaluations)', 'Unemployment rate',\n",
      "       'Inflation rate', 'GDP', 'Target'],\n",
      "      dtype='object')\n"
     ]
    }
   ],
   "source": [
    "print(df.keys())"
   ]
  },
  {
   "cell_type": "code",
   "execution_count": 7,
   "id": "a2964d63",
   "metadata": {},
   "outputs": [
    {
     "data": {
      "text/html": [
       "<div>\n",
       "<style scoped>\n",
       "    .dataframe tbody tr th:only-of-type {\n",
       "        vertical-align: middle;\n",
       "    }\n",
       "\n",
       "    .dataframe tbody tr th {\n",
       "        vertical-align: top;\n",
       "    }\n",
       "\n",
       "    .dataframe thead th {\n",
       "        text-align: right;\n",
       "    }\n",
       "</style>\n",
       "<table border=\"1\" class=\"dataframe\">\n",
       "  <thead>\n",
       "    <tr style=\"text-align: right;\">\n",
       "      <th></th>\n",
       "      <th>Marital status</th>\n",
       "      <th>Application mode</th>\n",
       "      <th>Application order</th>\n",
       "      <th>Course</th>\n",
       "      <th>Daytime/evening attendance\\t</th>\n",
       "      <th>Previous qualification</th>\n",
       "      <th>Previous qualification (grade)</th>\n",
       "      <th>Nacionality</th>\n",
       "      <th>Mother's qualification</th>\n",
       "      <th>Father's qualification</th>\n",
       "      <th>...</th>\n",
       "      <th>Curricular units 2nd sem (credited)</th>\n",
       "      <th>Curricular units 2nd sem (enrolled)</th>\n",
       "      <th>Curricular units 2nd sem (evaluations)</th>\n",
       "      <th>Curricular units 2nd sem (approved)</th>\n",
       "      <th>Curricular units 2nd sem (grade)</th>\n",
       "      <th>Curricular units 2nd sem (without evaluations)</th>\n",
       "      <th>Unemployment rate</th>\n",
       "      <th>Inflation rate</th>\n",
       "      <th>GDP</th>\n",
       "      <th>Target</th>\n",
       "    </tr>\n",
       "  </thead>\n",
       "  <tbody>\n",
       "    <tr>\n",
       "      <th>0</th>\n",
       "      <td>1</td>\n",
       "      <td>17</td>\n",
       "      <td>5</td>\n",
       "      <td>171</td>\n",
       "      <td>1</td>\n",
       "      <td>1</td>\n",
       "      <td>122.0</td>\n",
       "      <td>1</td>\n",
       "      <td>19</td>\n",
       "      <td>12</td>\n",
       "      <td>...</td>\n",
       "      <td>0</td>\n",
       "      <td>0</td>\n",
       "      <td>0</td>\n",
       "      <td>0</td>\n",
       "      <td>0.000000</td>\n",
       "      <td>0</td>\n",
       "      <td>10.8</td>\n",
       "      <td>1.4</td>\n",
       "      <td>1.74</td>\n",
       "      <td>Dropout</td>\n",
       "    </tr>\n",
       "    <tr>\n",
       "      <th>1</th>\n",
       "      <td>1</td>\n",
       "      <td>15</td>\n",
       "      <td>1</td>\n",
       "      <td>9254</td>\n",
       "      <td>1</td>\n",
       "      <td>1</td>\n",
       "      <td>160.0</td>\n",
       "      <td>1</td>\n",
       "      <td>1</td>\n",
       "      <td>3</td>\n",
       "      <td>...</td>\n",
       "      <td>0</td>\n",
       "      <td>6</td>\n",
       "      <td>6</td>\n",
       "      <td>6</td>\n",
       "      <td>13.666667</td>\n",
       "      <td>0</td>\n",
       "      <td>13.9</td>\n",
       "      <td>-0.3</td>\n",
       "      <td>0.79</td>\n",
       "      <td>Graduate</td>\n",
       "    </tr>\n",
       "    <tr>\n",
       "      <th>2</th>\n",
       "      <td>1</td>\n",
       "      <td>1</td>\n",
       "      <td>5</td>\n",
       "      <td>9070</td>\n",
       "      <td>1</td>\n",
       "      <td>1</td>\n",
       "      <td>122.0</td>\n",
       "      <td>1</td>\n",
       "      <td>37</td>\n",
       "      <td>37</td>\n",
       "      <td>...</td>\n",
       "      <td>0</td>\n",
       "      <td>6</td>\n",
       "      <td>0</td>\n",
       "      <td>0</td>\n",
       "      <td>0.000000</td>\n",
       "      <td>0</td>\n",
       "      <td>10.8</td>\n",
       "      <td>1.4</td>\n",
       "      <td>1.74</td>\n",
       "      <td>Dropout</td>\n",
       "    </tr>\n",
       "    <tr>\n",
       "      <th>3</th>\n",
       "      <td>1</td>\n",
       "      <td>17</td>\n",
       "      <td>2</td>\n",
       "      <td>9773</td>\n",
       "      <td>1</td>\n",
       "      <td>1</td>\n",
       "      <td>122.0</td>\n",
       "      <td>1</td>\n",
       "      <td>38</td>\n",
       "      <td>37</td>\n",
       "      <td>...</td>\n",
       "      <td>0</td>\n",
       "      <td>6</td>\n",
       "      <td>10</td>\n",
       "      <td>5</td>\n",
       "      <td>12.400000</td>\n",
       "      <td>0</td>\n",
       "      <td>9.4</td>\n",
       "      <td>-0.8</td>\n",
       "      <td>-3.12</td>\n",
       "      <td>Graduate</td>\n",
       "    </tr>\n",
       "    <tr>\n",
       "      <th>4</th>\n",
       "      <td>2</td>\n",
       "      <td>39</td>\n",
       "      <td>1</td>\n",
       "      <td>8014</td>\n",
       "      <td>0</td>\n",
       "      <td>1</td>\n",
       "      <td>100.0</td>\n",
       "      <td>1</td>\n",
       "      <td>37</td>\n",
       "      <td>38</td>\n",
       "      <td>...</td>\n",
       "      <td>0</td>\n",
       "      <td>6</td>\n",
       "      <td>6</td>\n",
       "      <td>6</td>\n",
       "      <td>13.000000</td>\n",
       "      <td>0</td>\n",
       "      <td>13.9</td>\n",
       "      <td>-0.3</td>\n",
       "      <td>0.79</td>\n",
       "      <td>Graduate</td>\n",
       "    </tr>\n",
       "  </tbody>\n",
       "</table>\n",
       "<p>5 rows × 37 columns</p>\n",
       "</div>"
      ],
      "text/plain": [
       "   Marital status  Application mode  Application order  Course  \\\n",
       "0               1                17                  5     171   \n",
       "1               1                15                  1    9254   \n",
       "2               1                 1                  5    9070   \n",
       "3               1                17                  2    9773   \n",
       "4               2                39                  1    8014   \n",
       "\n",
       "   Daytime/evening attendance\\t  Previous qualification  \\\n",
       "0                             1                       1   \n",
       "1                             1                       1   \n",
       "2                             1                       1   \n",
       "3                             1                       1   \n",
       "4                             0                       1   \n",
       "\n",
       "   Previous qualification (grade)  Nacionality  Mother's qualification  \\\n",
       "0                           122.0            1                      19   \n",
       "1                           160.0            1                       1   \n",
       "2                           122.0            1                      37   \n",
       "3                           122.0            1                      38   \n",
       "4                           100.0            1                      37   \n",
       "\n",
       "   Father's qualification  ...  Curricular units 2nd sem (credited)  \\\n",
       "0                      12  ...                                    0   \n",
       "1                       3  ...                                    0   \n",
       "2                      37  ...                                    0   \n",
       "3                      37  ...                                    0   \n",
       "4                      38  ...                                    0   \n",
       "\n",
       "   Curricular units 2nd sem (enrolled)  \\\n",
       "0                                    0   \n",
       "1                                    6   \n",
       "2                                    6   \n",
       "3                                    6   \n",
       "4                                    6   \n",
       "\n",
       "   Curricular units 2nd sem (evaluations)  \\\n",
       "0                                       0   \n",
       "1                                       6   \n",
       "2                                       0   \n",
       "3                                      10   \n",
       "4                                       6   \n",
       "\n",
       "   Curricular units 2nd sem (approved)  Curricular units 2nd sem (grade)  \\\n",
       "0                                    0                          0.000000   \n",
       "1                                    6                         13.666667   \n",
       "2                                    0                          0.000000   \n",
       "3                                    5                         12.400000   \n",
       "4                                    6                         13.000000   \n",
       "\n",
       "   Curricular units 2nd sem (without evaluations)  Unemployment rate  \\\n",
       "0                                               0               10.8   \n",
       "1                                               0               13.9   \n",
       "2                                               0               10.8   \n",
       "3                                               0                9.4   \n",
       "4                                               0               13.9   \n",
       "\n",
       "   Inflation rate   GDP    Target  \n",
       "0             1.4  1.74   Dropout  \n",
       "1            -0.3  0.79  Graduate  \n",
       "2             1.4  1.74   Dropout  \n",
       "3            -0.8 -3.12  Graduate  \n",
       "4            -0.3  0.79  Graduate  \n",
       "\n",
       "[5 rows x 37 columns]"
      ]
     },
     "execution_count": 7,
     "metadata": {},
     "output_type": "execute_result"
    }
   ],
   "source": [
    "df.head()"
   ]
  },
  {
   "cell_type": "code",
   "execution_count": 8,
   "id": "bc2ca08c",
   "metadata": {},
   "outputs": [
    {
     "data": {
      "text/plain": [
       "(4424, 37)"
      ]
     },
     "execution_count": 8,
     "metadata": {},
     "output_type": "execute_result"
    }
   ],
   "source": [
    "df.shape"
   ]
  },
  {
   "cell_type": "code",
   "execution_count": 9,
   "id": "e438df66",
   "metadata": {},
   "outputs": [
    {
     "data": {
      "text/plain": [
       "Marital status                                      int64\n",
       "Application mode                                    int64\n",
       "Application order                                   int64\n",
       "Course                                              int64\n",
       "Daytime/evening attendance\\t                        int64\n",
       "Previous qualification                              int64\n",
       "Previous qualification (grade)                    float64\n",
       "Nacionality                                         int64\n",
       "Mother's qualification                              int64\n",
       "Father's qualification                              int64\n",
       "Mother's occupation                                 int64\n",
       "Father's occupation                                 int64\n",
       "Admission grade                                   float64\n",
       "Displaced                                           int64\n",
       "Educational special needs                           int64\n",
       "Debtor                                              int64\n",
       "Tuition fees up to date                             int64\n",
       "Gender                                              int64\n",
       "Scholarship holder                                  int64\n",
       "Age at enrollment                                   int64\n",
       "International                                       int64\n",
       "Curricular units 1st sem (credited)                 int64\n",
       "Curricular units 1st sem (enrolled)                 int64\n",
       "Curricular units 1st sem (evaluations)              int64\n",
       "Curricular units 1st sem (approved)                 int64\n",
       "Curricular units 1st sem (grade)                  float64\n",
       "Curricular units 1st sem (without evaluations)      int64\n",
       "Curricular units 2nd sem (credited)                 int64\n",
       "Curricular units 2nd sem (enrolled)                 int64\n",
       "Curricular units 2nd sem (evaluations)              int64\n",
       "Curricular units 2nd sem (approved)                 int64\n",
       "Curricular units 2nd sem (grade)                  float64\n",
       "Curricular units 2nd sem (without evaluations)      int64\n",
       "Unemployment rate                                 float64\n",
       "Inflation rate                                    float64\n",
       "GDP                                               float64\n",
       "Target                                             object\n",
       "dtype: object"
      ]
     },
     "execution_count": 9,
     "metadata": {},
     "output_type": "execute_result"
    }
   ],
   "source": [
    "df.dtypes"
   ]
  },
  {
   "cell_type": "code",
   "execution_count": 10,
   "id": "444474e9",
   "metadata": {},
   "outputs": [
    {
     "data": {
      "text/plain": [
       "Marital status                                    0\n",
       "Application mode                                  0\n",
       "Application order                                 0\n",
       "Course                                            0\n",
       "Daytime/evening attendance\\t                      0\n",
       "Previous qualification                            0\n",
       "Previous qualification (grade)                    0\n",
       "Nacionality                                       0\n",
       "Mother's qualification                            0\n",
       "Father's qualification                            0\n",
       "Mother's occupation                               0\n",
       "Father's occupation                               0\n",
       "Admission grade                                   0\n",
       "Displaced                                         0\n",
       "Educational special needs                         0\n",
       "Debtor                                            0\n",
       "Tuition fees up to date                           0\n",
       "Gender                                            0\n",
       "Scholarship holder                                0\n",
       "Age at enrollment                                 0\n",
       "International                                     0\n",
       "Curricular units 1st sem (credited)               0\n",
       "Curricular units 1st sem (enrolled)               0\n",
       "Curricular units 1st sem (evaluations)            0\n",
       "Curricular units 1st sem (approved)               0\n",
       "Curricular units 1st sem (grade)                  0\n",
       "Curricular units 1st sem (without evaluations)    0\n",
       "Curricular units 2nd sem (credited)               0\n",
       "Curricular units 2nd sem (enrolled)               0\n",
       "Curricular units 2nd sem (evaluations)            0\n",
       "Curricular units 2nd sem (approved)               0\n",
       "Curricular units 2nd sem (grade)                  0\n",
       "Curricular units 2nd sem (without evaluations)    0\n",
       "Unemployment rate                                 0\n",
       "Inflation rate                                    0\n",
       "GDP                                               0\n",
       "Target                                            0\n",
       "dtype: int64"
      ]
     },
     "execution_count": 10,
     "metadata": {},
     "output_type": "execute_result"
    }
   ],
   "source": [
    "pd.isnull(df).sum()"
   ]
  },
  {
   "cell_type": "code",
   "execution_count": 11,
   "id": "289c32c8",
   "metadata": {},
   "outputs": [
    {
     "name": "stdout",
     "output_type": "stream",
     "text": [
      "['Dropout' 'Graduate' 'Enrolled']\n",
      "Counter({'Graduate': 2209, 'Dropout': 1421, 'Enrolled': 794})\n"
     ]
    }
   ],
   "source": [
    "# Checking unique values in the Target attribute and the distribution of the unique values\n",
    "target_types = Counter(df['Target'])\n",
    "print(df['Target'].unique())\n",
    "print(target_types)"
   ]
  },
  {
   "cell_type": "code",
   "execution_count": 12,
   "id": "6ff585b0",
   "metadata": {},
   "outputs": [
    {
     "name": "stdout",
     "output_type": "stream",
     "text": [
      "['Dropout' 'Graduate']\n",
      "Counter({'Graduate': 2209, 'Dropout': 1421})\n"
     ]
    }
   ],
   "source": [
    "# Creating dataframe without enrolled\n",
    "df2 = df.copy(deep=True)\n",
    "df2 = df2[df2.Target != 'Enrolled']\n",
    "target_types2 = Counter(df2['Target'])\n",
    "print(df2['Target'].unique())\n",
    "print(target_types2)"
   ]
  },
  {
   "cell_type": "code",
   "execution_count": 13,
   "id": "2208cac0",
   "metadata": {},
   "outputs": [],
   "source": [
    "# Transforming Target to numerical values, Dropout=0, Enrolled=1, Graduate=2\n",
    "dft2 = df2.copy(deep=True)\n",
    "le = LabelEncoder()\n",
    "label = le.fit_transform(dft2['Target'])\n",
    "dft2.drop(\"Target\", axis=1, inplace=True)\n",
    "dft2[\"Target\"] = label"
   ]
  },
  {
   "cell_type": "code",
   "execution_count": 14,
   "id": "0fa89af2",
   "metadata": {},
   "outputs": [],
   "source": [
    "# Creating X, dataset without labels\n",
    "X2 = dft2.drop(['Target'], axis=1)"
   ]
  },
  {
   "cell_type": "code",
   "execution_count": 15,
   "id": "92c59b95",
   "metadata": {},
   "outputs": [],
   "source": [
    "# Creating y, the label dataset\n",
    "y2 = dft2['Target']"
   ]
  },
  {
   "cell_type": "code",
   "execution_count": 18,
   "id": "19ee4a1f",
   "metadata": {},
   "outputs": [],
   "source": [
    "# Splitting the data into a training and a test dataset\n",
    "X2_train, X2_test, y2_train, y2_test = train_test_split(X2, y2, test_size = 0.2, stratify=y2)"
   ]
  },
  {
   "cell_type": "code",
   "execution_count": 21,
   "id": "72c9207e",
   "metadata": {},
   "outputs": [],
   "source": [
    "# Scaling the data with StandardScaler\n",
    "scaler = StandardScaler()\n",
    "X2_train_scaled = scaler.fit_transform(X2_train.astype(np.float64))\n",
    "X2_test_scaled = scaler.fit_transform(X2_test.astype(np.float64))"
   ]
  },
  {
   "cell_type": "code",
   "execution_count": 22,
   "id": "917705de",
   "metadata": {},
   "outputs": [],
   "source": [
    "from sklearn.linear_model import LogisticRegression\n",
    "from sklearn.ensemble import RandomForestClassifier\n",
    "from sklearn.svm import SVC\n",
    "from sklearn.ensemble import GradientBoostingClassifier\n",
    "from sklearn.discriminant_analysis import LinearDiscriminantAnalysis\n",
    "\n",
    "lr = LogisticRegression()\n",
    "rf = RandomForestClassifier()\n",
    "svc = SVC()\n",
    "gbc = GradientBoostingClassifier()\n",
    "lda = LinearDiscriminantAnalysis()"
   ]
  },
  {
   "cell_type": "code",
   "execution_count": 23,
   "id": "658b03f7",
   "metadata": {},
   "outputs": [
    {
     "name": "stdout",
     "output_type": "stream",
     "text": [
      "0.92\n",
      "0.91\n"
     ]
    }
   ],
   "source": [
    "lr.fit(X2_train_scaled, y2_train)\n",
    "y2_pred = lr.predict(X2_train_scaled)\n",
    "y2_pred_test = lr.predict(X2_test_scaled)\n",
    "print(round(accuracy_score(y2_train, y2_pred), 2))\n",
    "print(round(accuracy_score(y2_test, y2_pred_test), 2))"
   ]
  },
  {
   "cell_type": "code",
   "execution_count": 24,
   "id": "20ff8e36",
   "metadata": {},
   "outputs": [
    {
     "name": "stdout",
     "output_type": "stream",
     "text": [
      "1.0\n",
      "0.92\n"
     ]
    }
   ],
   "source": [
    "rf.fit(X2_train_scaled, y2_train)\n",
    "y2_pred = rf.predict(X2_train_scaled)\n",
    "y2_pred_test = rf.predict(X2_test_scaled)\n",
    "print(round(accuracy_score(y2_train, y2_pred), 2))\n",
    "print(round(accuracy_score(y2_test, y2_pred_test), 2))"
   ]
  },
  {
   "cell_type": "code",
   "execution_count": 25,
   "id": "d6f7e588",
   "metadata": {},
   "outputs": [
    {
     "name": "stdout",
     "output_type": "stream",
     "text": [
      "0.93\n",
      "0.92\n"
     ]
    }
   ],
   "source": [
    "svc.fit(X2_train_scaled, y2_train)\n",
    "y2_pred = svc.predict(X2_train_scaled)\n",
    "y2_pred_test = svc.predict(X2_test_scaled)\n",
    "print(round(accuracy_score(y2_train, y2_pred), 2))\n",
    "print(round(accuracy_score(y2_test, y2_pred_test), 2))"
   ]
  },
  {
   "cell_type": "code",
   "execution_count": 26,
   "id": "8698951c",
   "metadata": {},
   "outputs": [
    {
     "name": "stdout",
     "output_type": "stream",
     "text": [
      "0.93\n",
      "0.92\n"
     ]
    }
   ],
   "source": [
    "gbc.fit(X2_train_scaled, y2_train)\n",
    "y2_pred = gbc.predict(X2_train_scaled)\n",
    "y2_pred_test = gbc.predict(X2_test_scaled)\n",
    "print(round(accuracy_score(y2_train, y2_pred), 2))\n",
    "print(round(accuracy_score(y2_test, y2_pred_test), 2))"
   ]
  },
  {
   "cell_type": "code",
   "execution_count": 27,
   "id": "0265f8b8",
   "metadata": {},
   "outputs": [
    {
     "name": "stdout",
     "output_type": "stream",
     "text": [
      "0.9\n",
      "0.91\n"
     ]
    }
   ],
   "source": [
    "lda.fit(X2_train_scaled, y2_train)\n",
    "y2_pred = lda.predict(X2_train_scaled)\n",
    "y2_pred_test = lda.predict(X2_test_scaled)\n",
    "print(round(accuracy_score(y2_train, y2_pred), 2))\n",
    "print(round(accuracy_score(y2_test, y2_pred_test), 2))"
   ]
  },
  {
   "cell_type": "code",
   "execution_count": 28,
   "id": "346985f1",
   "metadata": {},
   "outputs": [],
   "source": [
    "from sklearn.ensemble import VotingClassifier\n",
    "\n",
    "lr = LogisticRegression()\n",
    "#create our voting classifier\n",
    "ensemble = VotingClassifier(estimators=[('lr', lr), ('rf', rf), ('gbc', gbc), ('svc', svc), ('lda', lda)], voting='hard', n_jobs=-1)"
   ]
  },
  {
   "cell_type": "code",
   "execution_count": 29,
   "id": "6cee9418",
   "metadata": {},
   "outputs": [
    {
     "name": "stdout",
     "output_type": "stream",
     "text": [
      "0.934228650137741\n",
      "0.9228650137741047\n"
     ]
    }
   ],
   "source": [
    "#fit model to training data\n",
    "ensemble.fit(X2_train_scaled, y2_train)\n",
    "\n",
    "#test our model on the test data\n",
    "print(ensemble.score(X2_train_scaled, y2_train))\n",
    "print(ensemble.score(X2_test_scaled, y2_test))"
   ]
  },
  {
   "cell_type": "markdown",
   "id": "30089d3b",
   "metadata": {},
   "source": [
    "### 2. DATA PREPROCESSING"
   ]
  },
  {
   "cell_type": "code",
   "execution_count": 16,
   "id": "cc4dd18c",
   "metadata": {},
   "outputs": [],
   "source": [
    "# Transforming Target to numerical values, Dropout=0, Enrolled=1, Graduate=2\n",
    "dft = df.copy(deep=True)\n",
    "le = LabelEncoder()\n",
    "label = le.fit_transform(dft['Target'])\n",
    "dft.drop(\"Target\", axis=1, inplace=True)\n",
    "dft[\"Target\"] = label"
   ]
  },
  {
   "cell_type": "code",
   "execution_count": 17,
   "id": "67d83c5b",
   "metadata": {},
   "outputs": [
    {
     "name": "stdout",
     "output_type": "stream",
     "text": [
      "[0 2 1]\n",
      "Counter({2: 2209, 0: 1421, 1: 794})\n"
     ]
    }
   ],
   "source": [
    "target_types = Counter(dft['Target'])\n",
    "print(dft['Target'].unique())\n",
    "print(target_types)"
   ]
  },
  {
   "cell_type": "code",
   "execution_count": 18,
   "id": "710ea6d7",
   "metadata": {},
   "outputs": [
    {
     "data": {
      "text/plain": [
       "Marital status                                      int64\n",
       "Application mode                                    int64\n",
       "Application order                                   int64\n",
       "Course                                              int64\n",
       "Daytime/evening attendance\\t                        int64\n",
       "Previous qualification                              int64\n",
       "Previous qualification (grade)                    float64\n",
       "Nacionality                                         int64\n",
       "Mother's qualification                              int64\n",
       "Father's qualification                              int64\n",
       "Mother's occupation                                 int64\n",
       "Father's occupation                                 int64\n",
       "Admission grade                                   float64\n",
       "Displaced                                           int64\n",
       "Educational special needs                           int64\n",
       "Debtor                                              int64\n",
       "Tuition fees up to date                             int64\n",
       "Gender                                              int64\n",
       "Scholarship holder                                  int64\n",
       "Age at enrollment                                   int64\n",
       "International                                       int64\n",
       "Curricular units 1st sem (credited)                 int64\n",
       "Curricular units 1st sem (enrolled)                 int64\n",
       "Curricular units 1st sem (evaluations)              int64\n",
       "Curricular units 1st sem (approved)                 int64\n",
       "Curricular units 1st sem (grade)                  float64\n",
       "Curricular units 1st sem (without evaluations)      int64\n",
       "Curricular units 2nd sem (credited)                 int64\n",
       "Curricular units 2nd sem (enrolled)                 int64\n",
       "Curricular units 2nd sem (evaluations)              int64\n",
       "Curricular units 2nd sem (approved)                 int64\n",
       "Curricular units 2nd sem (grade)                  float64\n",
       "Curricular units 2nd sem (without evaluations)      int64\n",
       "Unemployment rate                                 float64\n",
       "Inflation rate                                    float64\n",
       "GDP                                               float64\n",
       "Target                                              int64\n",
       "dtype: object"
      ]
     },
     "execution_count": 18,
     "metadata": {},
     "output_type": "execute_result"
    }
   ],
   "source": [
    "dft.dtypes"
   ]
  },
  {
   "cell_type": "code",
   "execution_count": 19,
   "id": "cee0c8ce",
   "metadata": {},
   "outputs": [
    {
     "data": {
      "text/html": [
       "<div>\n",
       "<style scoped>\n",
       "    .dataframe tbody tr th:only-of-type {\n",
       "        vertical-align: middle;\n",
       "    }\n",
       "\n",
       "    .dataframe tbody tr th {\n",
       "        vertical-align: top;\n",
       "    }\n",
       "\n",
       "    .dataframe thead th {\n",
       "        text-align: right;\n",
       "    }\n",
       "</style>\n",
       "<table border=\"1\" class=\"dataframe\">\n",
       "  <thead>\n",
       "    <tr style=\"text-align: right;\">\n",
       "      <th></th>\n",
       "      <th>Marital status</th>\n",
       "      <th>Application mode</th>\n",
       "      <th>Application order</th>\n",
       "      <th>Course</th>\n",
       "      <th>Daytime/evening attendance\\t</th>\n",
       "      <th>Previous qualification</th>\n",
       "      <th>Previous qualification (grade)</th>\n",
       "      <th>Nacionality</th>\n",
       "      <th>Mother's qualification</th>\n",
       "      <th>Father's qualification</th>\n",
       "      <th>...</th>\n",
       "      <th>Curricular units 2nd sem (credited)</th>\n",
       "      <th>Curricular units 2nd sem (enrolled)</th>\n",
       "      <th>Curricular units 2nd sem (evaluations)</th>\n",
       "      <th>Curricular units 2nd sem (approved)</th>\n",
       "      <th>Curricular units 2nd sem (grade)</th>\n",
       "      <th>Curricular units 2nd sem (without evaluations)</th>\n",
       "      <th>Unemployment rate</th>\n",
       "      <th>Inflation rate</th>\n",
       "      <th>GDP</th>\n",
       "      <th>Target</th>\n",
       "    </tr>\n",
       "  </thead>\n",
       "  <tbody>\n",
       "    <tr>\n",
       "      <th>0</th>\n",
       "      <td>1</td>\n",
       "      <td>17</td>\n",
       "      <td>5</td>\n",
       "      <td>171</td>\n",
       "      <td>1</td>\n",
       "      <td>1</td>\n",
       "      <td>122.0</td>\n",
       "      <td>1</td>\n",
       "      <td>19</td>\n",
       "      <td>12</td>\n",
       "      <td>...</td>\n",
       "      <td>0</td>\n",
       "      <td>0</td>\n",
       "      <td>0</td>\n",
       "      <td>0</td>\n",
       "      <td>0.000000</td>\n",
       "      <td>0</td>\n",
       "      <td>10.8</td>\n",
       "      <td>1.4</td>\n",
       "      <td>1.74</td>\n",
       "      <td>0</td>\n",
       "    </tr>\n",
       "    <tr>\n",
       "      <th>1</th>\n",
       "      <td>1</td>\n",
       "      <td>15</td>\n",
       "      <td>1</td>\n",
       "      <td>9254</td>\n",
       "      <td>1</td>\n",
       "      <td>1</td>\n",
       "      <td>160.0</td>\n",
       "      <td>1</td>\n",
       "      <td>1</td>\n",
       "      <td>3</td>\n",
       "      <td>...</td>\n",
       "      <td>0</td>\n",
       "      <td>6</td>\n",
       "      <td>6</td>\n",
       "      <td>6</td>\n",
       "      <td>13.666667</td>\n",
       "      <td>0</td>\n",
       "      <td>13.9</td>\n",
       "      <td>-0.3</td>\n",
       "      <td>0.79</td>\n",
       "      <td>2</td>\n",
       "    </tr>\n",
       "    <tr>\n",
       "      <th>2</th>\n",
       "      <td>1</td>\n",
       "      <td>1</td>\n",
       "      <td>5</td>\n",
       "      <td>9070</td>\n",
       "      <td>1</td>\n",
       "      <td>1</td>\n",
       "      <td>122.0</td>\n",
       "      <td>1</td>\n",
       "      <td>37</td>\n",
       "      <td>37</td>\n",
       "      <td>...</td>\n",
       "      <td>0</td>\n",
       "      <td>6</td>\n",
       "      <td>0</td>\n",
       "      <td>0</td>\n",
       "      <td>0.000000</td>\n",
       "      <td>0</td>\n",
       "      <td>10.8</td>\n",
       "      <td>1.4</td>\n",
       "      <td>1.74</td>\n",
       "      <td>0</td>\n",
       "    </tr>\n",
       "    <tr>\n",
       "      <th>3</th>\n",
       "      <td>1</td>\n",
       "      <td>17</td>\n",
       "      <td>2</td>\n",
       "      <td>9773</td>\n",
       "      <td>1</td>\n",
       "      <td>1</td>\n",
       "      <td>122.0</td>\n",
       "      <td>1</td>\n",
       "      <td>38</td>\n",
       "      <td>37</td>\n",
       "      <td>...</td>\n",
       "      <td>0</td>\n",
       "      <td>6</td>\n",
       "      <td>10</td>\n",
       "      <td>5</td>\n",
       "      <td>12.400000</td>\n",
       "      <td>0</td>\n",
       "      <td>9.4</td>\n",
       "      <td>-0.8</td>\n",
       "      <td>-3.12</td>\n",
       "      <td>2</td>\n",
       "    </tr>\n",
       "    <tr>\n",
       "      <th>4</th>\n",
       "      <td>2</td>\n",
       "      <td>39</td>\n",
       "      <td>1</td>\n",
       "      <td>8014</td>\n",
       "      <td>0</td>\n",
       "      <td>1</td>\n",
       "      <td>100.0</td>\n",
       "      <td>1</td>\n",
       "      <td>37</td>\n",
       "      <td>38</td>\n",
       "      <td>...</td>\n",
       "      <td>0</td>\n",
       "      <td>6</td>\n",
       "      <td>6</td>\n",
       "      <td>6</td>\n",
       "      <td>13.000000</td>\n",
       "      <td>0</td>\n",
       "      <td>13.9</td>\n",
       "      <td>-0.3</td>\n",
       "      <td>0.79</td>\n",
       "      <td>2</td>\n",
       "    </tr>\n",
       "  </tbody>\n",
       "</table>\n",
       "<p>5 rows × 37 columns</p>\n",
       "</div>"
      ],
      "text/plain": [
       "   Marital status  Application mode  Application order  Course  \\\n",
       "0               1                17                  5     171   \n",
       "1               1                15                  1    9254   \n",
       "2               1                 1                  5    9070   \n",
       "3               1                17                  2    9773   \n",
       "4               2                39                  1    8014   \n",
       "\n",
       "   Daytime/evening attendance\\t  Previous qualification  \\\n",
       "0                             1                       1   \n",
       "1                             1                       1   \n",
       "2                             1                       1   \n",
       "3                             1                       1   \n",
       "4                             0                       1   \n",
       "\n",
       "   Previous qualification (grade)  Nacionality  Mother's qualification  \\\n",
       "0                           122.0            1                      19   \n",
       "1                           160.0            1                       1   \n",
       "2                           122.0            1                      37   \n",
       "3                           122.0            1                      38   \n",
       "4                           100.0            1                      37   \n",
       "\n",
       "   Father's qualification  ...  Curricular units 2nd sem (credited)  \\\n",
       "0                      12  ...                                    0   \n",
       "1                       3  ...                                    0   \n",
       "2                      37  ...                                    0   \n",
       "3                      37  ...                                    0   \n",
       "4                      38  ...                                    0   \n",
       "\n",
       "   Curricular units 2nd sem (enrolled)  \\\n",
       "0                                    0   \n",
       "1                                    6   \n",
       "2                                    6   \n",
       "3                                    6   \n",
       "4                                    6   \n",
       "\n",
       "   Curricular units 2nd sem (evaluations)  \\\n",
       "0                                       0   \n",
       "1                                       6   \n",
       "2                                       0   \n",
       "3                                      10   \n",
       "4                                       6   \n",
       "\n",
       "   Curricular units 2nd sem (approved)  Curricular units 2nd sem (grade)  \\\n",
       "0                                    0                          0.000000   \n",
       "1                                    6                         13.666667   \n",
       "2                                    0                          0.000000   \n",
       "3                                    5                         12.400000   \n",
       "4                                    6                         13.000000   \n",
       "\n",
       "   Curricular units 2nd sem (without evaluations)  Unemployment rate  \\\n",
       "0                                               0               10.8   \n",
       "1                                               0               13.9   \n",
       "2                                               0               10.8   \n",
       "3                                               0                9.4   \n",
       "4                                               0               13.9   \n",
       "\n",
       "   Inflation rate   GDP  Target  \n",
       "0             1.4  1.74       0  \n",
       "1            -0.3  0.79       2  \n",
       "2             1.4  1.74       0  \n",
       "3            -0.8 -3.12       2  \n",
       "4            -0.3  0.79       2  \n",
       "\n",
       "[5 rows x 37 columns]"
      ]
     },
     "execution_count": 19,
     "metadata": {},
     "output_type": "execute_result"
    }
   ],
   "source": [
    "dft.head()"
   ]
  },
  {
   "cell_type": "code",
   "execution_count": 20,
   "id": "7c6def1f",
   "metadata": {},
   "outputs": [
    {
     "data": {
      "image/png": "[encoded data removed]",
      "text/plain": [
       "<Figure size 2000x1500 with 2 Axes>"
      ]
     },
     "metadata": {},
     "output_type": "display_data"
    }
   ],
   "source": [
    "cmatrix = dft.corr()\n",
    "plt.figure(figsize=(20,15))\n",
    "sns.heatmap(cmatrix[((cmatrix >= .4) | (cmatrix <= -.6)) & (cmatrix !=1.000)], annot=True, cmap=\"Greens\")\n",
    "plt.show()"
   ]
  },
  {
   "cell_type": "code",
   "execution_count": 21,
   "id": "c7126f0a",
   "metadata": {},
   "outputs": [
    {
     "data": {
      "text/html": [
       "<div>\n",
       "<style scoped>\n",
       "    .dataframe tbody tr th:only-of-type {\n",
       "        vertical-align: middle;\n",
       "    }\n",
       "\n",
       "    .dataframe tbody tr th {\n",
       "        vertical-align: top;\n",
       "    }\n",
       "\n",
       "    .dataframe thead th {\n",
       "        text-align: right;\n",
       "    }\n",
       "</style>\n",
       "<table border=\"1\" class=\"dataframe\">\n",
       "  <thead>\n",
       "    <tr style=\"text-align: right;\">\n",
       "      <th></th>\n",
       "      <th>Target</th>\n",
       "    </tr>\n",
       "  </thead>\n",
       "  <tbody>\n",
       "    <tr>\n",
       "      <th>Target</th>\n",
       "      <td>1.000000</td>\n",
       "    </tr>\n",
       "    <tr>\n",
       "      <th>Curricular units 2nd sem (approved)</th>\n",
       "      <td>0.624157</td>\n",
       "    </tr>\n",
       "    <tr>\n",
       "      <th>Curricular units 2nd sem (grade)</th>\n",
       "      <td>0.566827</td>\n",
       "    </tr>\n",
       "    <tr>\n",
       "      <th>Curricular units 1st sem (approved)</th>\n",
       "      <td>0.529123</td>\n",
       "    </tr>\n",
       "    <tr>\n",
       "      <th>Curricular units 1st sem (grade)</th>\n",
       "      <td>0.485207</td>\n",
       "    </tr>\n",
       "    <tr>\n",
       "      <th>Tuition fees up to date</th>\n",
       "      <td>0.409827</td>\n",
       "    </tr>\n",
       "    <tr>\n",
       "      <th>Scholarship holder</th>\n",
       "      <td>0.297595</td>\n",
       "    </tr>\n",
       "    <tr>\n",
       "      <th>Curricular units 2nd sem (enrolled)</th>\n",
       "      <td>0.175847</td>\n",
       "    </tr>\n",
       "    <tr>\n",
       "      <th>Curricular units 1st sem (enrolled)</th>\n",
       "      <td>0.155974</td>\n",
       "    </tr>\n",
       "    <tr>\n",
       "      <th>Admission grade</th>\n",
       "      <td>0.120889</td>\n",
       "    </tr>\n",
       "    <tr>\n",
       "      <th>Displaced</th>\n",
       "      <td>0.113986</td>\n",
       "    </tr>\n",
       "    <tr>\n",
       "      <th>Previous qualification (grade)</th>\n",
       "      <td>0.103764</td>\n",
       "    </tr>\n",
       "    <tr>\n",
       "      <th>Curricular units 2nd sem (evaluations)</th>\n",
       "      <td>0.092721</td>\n",
       "    </tr>\n",
       "    <tr>\n",
       "      <th>Application order</th>\n",
       "      <td>0.089791</td>\n",
       "    </tr>\n",
       "    <tr>\n",
       "      <th>Daytime/evening attendance\\t</th>\n",
       "      <td>0.075107</td>\n",
       "    </tr>\n",
       "    <tr>\n",
       "      <th>Curricular units 2nd sem (credited)</th>\n",
       "      <td>0.054004</td>\n",
       "    </tr>\n",
       "    <tr>\n",
       "      <th>Curricular units 1st sem (credited)</th>\n",
       "      <td>0.048150</td>\n",
       "    </tr>\n",
       "    <tr>\n",
       "      <th>Curricular units 1st sem (evaluations)</th>\n",
       "      <td>0.044362</td>\n",
       "    </tr>\n",
       "    <tr>\n",
       "      <th>GDP</th>\n",
       "      <td>0.044135</td>\n",
       "    </tr>\n",
       "    <tr>\n",
       "      <th>Course</th>\n",
       "      <td>0.034219</td>\n",
       "    </tr>\n",
       "    <tr>\n",
       "      <th>Unemployment rate</th>\n",
       "      <td>0.008627</td>\n",
       "    </tr>\n",
       "    <tr>\n",
       "      <th>International</th>\n",
       "      <td>0.003934</td>\n",
       "    </tr>\n",
       "    <tr>\n",
       "      <th>Father's qualification</th>\n",
       "      <td>-0.001393</td>\n",
       "    </tr>\n",
       "    <tr>\n",
       "      <th>Father's occupation</th>\n",
       "      <td>-0.001899</td>\n",
       "    </tr>\n",
       "    <tr>\n",
       "      <th>Mother's occupation</th>\n",
       "      <td>-0.005629</td>\n",
       "    </tr>\n",
       "    <tr>\n",
       "      <th>Educational special needs</th>\n",
       "      <td>-0.007353</td>\n",
       "    </tr>\n",
       "    <tr>\n",
       "      <th>Nacionality</th>\n",
       "      <td>-0.014801</td>\n",
       "    </tr>\n",
       "    <tr>\n",
       "      <th>Inflation rate</th>\n",
       "      <td>-0.026874</td>\n",
       "    </tr>\n",
       "    <tr>\n",
       "      <th>Mother's qualification</th>\n",
       "      <td>-0.043178</td>\n",
       "    </tr>\n",
       "    <tr>\n",
       "      <th>Previous qualification</th>\n",
       "      <td>-0.056039</td>\n",
       "    </tr>\n",
       "    <tr>\n",
       "      <th>Curricular units 1st sem (without evaluations)</th>\n",
       "      <td>-0.068702</td>\n",
       "    </tr>\n",
       "    <tr>\n",
       "      <th>Marital status</th>\n",
       "      <td>-0.089804</td>\n",
       "    </tr>\n",
       "    <tr>\n",
       "      <th>Curricular units 2nd sem (without evaluations)</th>\n",
       "      <td>-0.094028</td>\n",
       "    </tr>\n",
       "    <tr>\n",
       "      <th>Application mode</th>\n",
       "      <td>-0.221747</td>\n",
       "    </tr>\n",
       "    <tr>\n",
       "      <th>Gender</th>\n",
       "      <td>-0.229270</td>\n",
       "    </tr>\n",
       "    <tr>\n",
       "      <th>Debtor</th>\n",
       "      <td>-0.240999</td>\n",
       "    </tr>\n",
       "    <tr>\n",
       "      <th>Age at enrollment</th>\n",
       "      <td>-0.243438</td>\n",
       "    </tr>\n",
       "  </tbody>\n",
       "</table>\n",
       "</div>"
      ],
      "text/plain": [
       "                                                  Target\n",
       "Target                                          1.000000\n",
       "Curricular units 2nd sem (approved)             0.624157\n",
       "Curricular units 2nd sem (grade)                0.566827\n",
       "Curricular units 1st sem (approved)             0.529123\n",
       "Curricular units 1st sem (grade)                0.485207\n",
       "Tuition fees up to date                         0.409827\n",
       "Scholarship holder                              0.297595\n",
       "Curricular units 2nd sem (enrolled)             0.175847\n",
       "Curricular units 1st sem (enrolled)             0.155974\n",
       "Admission grade                                 0.120889\n",
       "Displaced                                       0.113986\n",
       "Previous qualification (grade)                  0.103764\n",
       "Curricular units 2nd sem (evaluations)          0.092721\n",
       "Application order                               0.089791\n",
       "Daytime/evening attendance\\t                    0.075107\n",
       "Curricular units 2nd sem (credited)             0.054004\n",
       "Curricular units 1st sem (credited)             0.048150\n",
       "Curricular units 1st sem (evaluations)          0.044362\n",
       "GDP                                             0.044135\n",
       "Course                                          0.034219\n",
       "Unemployment rate                               0.008627\n",
       "International                                   0.003934\n",
       "Father's qualification                         -0.001393\n",
       "Father's occupation                            -0.001899\n",
       "Mother's occupation                            -0.005629\n",
       "Educational special needs                      -0.007353\n",
       "Nacionality                                    -0.014801\n",
       "Inflation rate                                 -0.026874\n",
       "Mother's qualification                         -0.043178\n",
       "Previous qualification                         -0.056039\n",
       "Curricular units 1st sem (without evaluations) -0.068702\n",
       "Marital status                                 -0.089804\n",
       "Curricular units 2nd sem (without evaluations) -0.094028\n",
       "Application mode                               -0.221747\n",
       "Gender                                         -0.229270\n",
       "Debtor                                         -0.240999\n",
       "Age at enrollment                              -0.243438"
      ]
     },
     "execution_count": 21,
     "metadata": {},
     "output_type": "execute_result"
    }
   ],
   "source": [
    "pd.DataFrame(dft.corr()[dft.columns[-1:]]).sort_values(by=['Target'], ascending=False)"
   ]
  },
  {
   "cell_type": "code",
   "execution_count": 22,
   "id": "b9182efb",
   "metadata": {},
   "outputs": [],
   "source": [
    "# Creating X, dataset without labels\n",
    "X = dft.drop(['Target'], axis=1)"
   ]
  },
  {
   "cell_type": "code",
   "execution_count": 23,
   "id": "5902cc5e",
   "metadata": {},
   "outputs": [
    {
     "data": {
      "text/html": [
       "<div>\n",
       "<style scoped>\n",
       "    .dataframe tbody tr th:only-of-type {\n",
       "        vertical-align: middle;\n",
       "    }\n",
       "\n",
       "    .dataframe tbody tr th {\n",
       "        vertical-align: top;\n",
       "    }\n",
       "\n",
       "    .dataframe thead th {\n",
       "        text-align: right;\n",
       "    }\n",
       "</style>\n",
       "<table border=\"1\" class=\"dataframe\">\n",
       "  <thead>\n",
       "    <tr style=\"text-align: right;\">\n",
       "      <th></th>\n",
       "      <th>Marital status</th>\n",
       "      <th>Application mode</th>\n",
       "      <th>Application order</th>\n",
       "      <th>Course</th>\n",
       "      <th>Daytime/evening attendance\\t</th>\n",
       "      <th>Previous qualification</th>\n",
       "      <th>Previous qualification (grade)</th>\n",
       "      <th>Nacionality</th>\n",
       "      <th>Mother's qualification</th>\n",
       "      <th>Father's qualification</th>\n",
       "      <th>...</th>\n",
       "      <th>Curricular units 1st sem (without evaluations)</th>\n",
       "      <th>Curricular units 2nd sem (credited)</th>\n",
       "      <th>Curricular units 2nd sem (enrolled)</th>\n",
       "      <th>Curricular units 2nd sem (evaluations)</th>\n",
       "      <th>Curricular units 2nd sem (approved)</th>\n",
       "      <th>Curricular units 2nd sem (grade)</th>\n",
       "      <th>Curricular units 2nd sem (without evaluations)</th>\n",
       "      <th>Unemployment rate</th>\n",
       "      <th>Inflation rate</th>\n",
       "      <th>GDP</th>\n",
       "    </tr>\n",
       "  </thead>\n",
       "  <tbody>\n",
       "    <tr>\n",
       "      <th>0</th>\n",
       "      <td>1</td>\n",
       "      <td>17</td>\n",
       "      <td>5</td>\n",
       "      <td>171</td>\n",
       "      <td>1</td>\n",
       "      <td>1</td>\n",
       "      <td>122.0</td>\n",
       "      <td>1</td>\n",
       "      <td>19</td>\n",
       "      <td>12</td>\n",
       "      <td>...</td>\n",
       "      <td>0</td>\n",
       "      <td>0</td>\n",
       "      <td>0</td>\n",
       "      <td>0</td>\n",
       "      <td>0</td>\n",
       "      <td>0.000000</td>\n",
       "      <td>0</td>\n",
       "      <td>10.8</td>\n",
       "      <td>1.4</td>\n",
       "      <td>1.74</td>\n",
       "    </tr>\n",
       "    <tr>\n",
       "      <th>1</th>\n",
       "      <td>1</td>\n",
       "      <td>15</td>\n",
       "      <td>1</td>\n",
       "      <td>9254</td>\n",
       "      <td>1</td>\n",
       "      <td>1</td>\n",
       "      <td>160.0</td>\n",
       "      <td>1</td>\n",
       "      <td>1</td>\n",
       "      <td>3</td>\n",
       "      <td>...</td>\n",
       "      <td>0</td>\n",
       "      <td>0</td>\n",
       "      <td>6</td>\n",
       "      <td>6</td>\n",
       "      <td>6</td>\n",
       "      <td>13.666667</td>\n",
       "      <td>0</td>\n",
       "      <td>13.9</td>\n",
       "      <td>-0.3</td>\n",
       "      <td>0.79</td>\n",
       "    </tr>\n",
       "    <tr>\n",
       "      <th>2</th>\n",
       "      <td>1</td>\n",
       "      <td>1</td>\n",
       "      <td>5</td>\n",
       "      <td>9070</td>\n",
       "      <td>1</td>\n",
       "      <td>1</td>\n",
       "      <td>122.0</td>\n",
       "      <td>1</td>\n",
       "      <td>37</td>\n",
       "      <td>37</td>\n",
       "      <td>...</td>\n",
       "      <td>0</td>\n",
       "      <td>0</td>\n",
       "      <td>6</td>\n",
       "      <td>0</td>\n",
       "      <td>0</td>\n",
       "      <td>0.000000</td>\n",
       "      <td>0</td>\n",
       "      <td>10.8</td>\n",
       "      <td>1.4</td>\n",
       "      <td>1.74</td>\n",
       "    </tr>\n",
       "    <tr>\n",
       "      <th>3</th>\n",
       "      <td>1</td>\n",
       "      <td>17</td>\n",
       "      <td>2</td>\n",
       "      <td>9773</td>\n",
       "      <td>1</td>\n",
       "      <td>1</td>\n",
       "      <td>122.0</td>\n",
       "      <td>1</td>\n",
       "      <td>38</td>\n",
       "      <td>37</td>\n",
       "      <td>...</td>\n",
       "      <td>0</td>\n",
       "      <td>0</td>\n",
       "      <td>6</td>\n",
       "      <td>10</td>\n",
       "      <td>5</td>\n",
       "      <td>12.400000</td>\n",
       "      <td>0</td>\n",
       "      <td>9.4</td>\n",
       "      <td>-0.8</td>\n",
       "      <td>-3.12</td>\n",
       "    </tr>\n",
       "    <tr>\n",
       "      <th>4</th>\n",
       "      <td>2</td>\n",
       "      <td>39</td>\n",
       "      <td>1</td>\n",
       "      <td>8014</td>\n",
       "      <td>0</td>\n",
       "      <td>1</td>\n",
       "      <td>100.0</td>\n",
       "      <td>1</td>\n",
       "      <td>37</td>\n",
       "      <td>38</td>\n",
       "      <td>...</td>\n",
       "      <td>0</td>\n",
       "      <td>0</td>\n",
       "      <td>6</td>\n",
       "      <td>6</td>\n",
       "      <td>6</td>\n",
       "      <td>13.000000</td>\n",
       "      <td>0</td>\n",
       "      <td>13.9</td>\n",
       "      <td>-0.3</td>\n",
       "      <td>0.79</td>\n",
       "    </tr>\n",
       "  </tbody>\n",
       "</table>\n",
       "<p>5 rows × 36 columns</p>\n",
       "</div>"
      ],
      "text/plain": [
       "   Marital status  Application mode  Application order  Course  \\\n",
       "0               1                17                  5     171   \n",
       "1               1                15                  1    9254   \n",
       "2               1                 1                  5    9070   \n",
       "3               1                17                  2    9773   \n",
       "4               2                39                  1    8014   \n",
       "\n",
       "   Daytime/evening attendance\\t  Previous qualification  \\\n",
       "0                             1                       1   \n",
       "1                             1                       1   \n",
       "2                             1                       1   \n",
       "3                             1                       1   \n",
       "4                             0                       1   \n",
       "\n",
       "   Previous qualification (grade)  Nacionality  Mother's qualification  \\\n",
       "0                           122.0            1                      19   \n",
       "1                           160.0            1                       1   \n",
       "2                           122.0            1                      37   \n",
       "3                           122.0            1                      38   \n",
       "4                           100.0            1                      37   \n",
       "\n",
       "   Father's qualification  ...  \\\n",
       "0                      12  ...   \n",
       "1                       3  ...   \n",
       "2                      37  ...   \n",
       "3                      37  ...   \n",
       "4                      38  ...   \n",
       "\n",
       "   Curricular units 1st sem (without evaluations)  \\\n",
       "0                                               0   \n",
       "1                                               0   \n",
       "2                                               0   \n",
       "3                                               0   \n",
       "4                                               0   \n",
       "\n",
       "   Curricular units 2nd sem (credited)  Curricular units 2nd sem (enrolled)  \\\n",
       "0                                    0                                    0   \n",
       "1                                    0                                    6   \n",
       "2                                    0                                    6   \n",
       "3                                    0                                    6   \n",
       "4                                    0                                    6   \n",
       "\n",
       "   Curricular units 2nd sem (evaluations)  \\\n",
       "0                                       0   \n",
       "1                                       6   \n",
       "2                                       0   \n",
       "3                                      10   \n",
       "4                                       6   \n",
       "\n",
       "   Curricular units 2nd sem (approved)  Curricular units 2nd sem (grade)  \\\n",
       "0                                    0                          0.000000   \n",
       "1                                    6                         13.666667   \n",
       "2                                    0                          0.000000   \n",
       "3                                    5                         12.400000   \n",
       "4                                    6                         13.000000   \n",
       "\n",
       "   Curricular units 2nd sem (without evaluations)  Unemployment rate  \\\n",
       "0                                               0               10.8   \n",
       "1                                               0               13.9   \n",
       "2                                               0               10.8   \n",
       "3                                               0                9.4   \n",
       "4                                               0               13.9   \n",
       "\n",
       "   Inflation rate   GDP  \n",
       "0             1.4  1.74  \n",
       "1            -0.3  0.79  \n",
       "2             1.4  1.74  \n",
       "3            -0.8 -3.12  \n",
       "4            -0.3  0.79  \n",
       "\n",
       "[5 rows x 36 columns]"
      ]
     },
     "execution_count": 23,
     "metadata": {},
     "output_type": "execute_result"
    }
   ],
   "source": [
    "X.head()"
   ]
  },
  {
   "cell_type": "code",
   "execution_count": 24,
   "id": "aef83544",
   "metadata": {},
   "outputs": [
    {
     "data": {
      "text/plain": [
       "(4424, 36)"
      ]
     },
     "execution_count": 24,
     "metadata": {},
     "output_type": "execute_result"
    }
   ],
   "source": [
    "X.shape"
   ]
  },
  {
   "cell_type": "code",
   "execution_count": 25,
   "id": "409f2b0f",
   "metadata": {},
   "outputs": [],
   "source": [
    "# Creating y, the label dataset\n",
    "y = dft['Target']"
   ]
  },
  {
   "cell_type": "code",
   "execution_count": 26,
   "id": "e14c6e03",
   "metadata": {},
   "outputs": [
    {
     "data": {
      "text/plain": [
       "0    0\n",
       "1    2\n",
       "2    0\n",
       "3    2\n",
       "4    2\n",
       "Name: Target, dtype: int64"
      ]
     },
     "execution_count": 26,
     "metadata": {},
     "output_type": "execute_result"
    }
   ],
   "source": [
    "y.head()"
   ]
  },
  {
   "cell_type": "code",
   "execution_count": 27,
   "id": "6d56face",
   "metadata": {},
   "outputs": [
    {
     "data": {
      "text/plain": [
       "(4424,)"
      ]
     },
     "execution_count": 27,
     "metadata": {},
     "output_type": "execute_result"
    }
   ],
   "source": [
    "y.shape"
   ]
  },
  {
   "cell_type": "code",
   "execution_count": 28,
   "id": "39fed67f",
   "metadata": {},
   "outputs": [
    {
     "data": {
      "text/plain": [
       "array([0, 2, 1])"
      ]
     },
     "execution_count": 28,
     "metadata": {},
     "output_type": "execute_result"
    }
   ],
   "source": [
    "y.unique()"
   ]
  },
  {
   "cell_type": "code",
   "execution_count": 29,
   "id": "09b6268f",
   "metadata": {},
   "outputs": [
    {
     "name": "stdout",
     "output_type": "stream",
     "text": [
      "Counter({2: 2209, 0: 1421, 1: 794})\n"
     ]
    }
   ],
   "source": [
    "target_types = Counter(y)\n",
    "print(target_types)"
   ]
  },
  {
   "cell_type": "code",
   "execution_count": 30,
   "id": "8f38d726",
   "metadata": {},
   "outputs": [],
   "source": [
    "# Splitting the data into a training and a test dataset\n",
    "X_train, X_test, y_train, y_test = train_test_split(X, y, test_size = 0.2, stratify=y)"
   ]
  },
  {
   "cell_type": "code",
   "execution_count": 31,
   "id": "d3272d27",
   "metadata": {},
   "outputs": [
    {
     "name": "stdout",
     "output_type": "stream",
     "text": [
      "Counter({2: 1767, 0: 1137, 1: 635})\n"
     ]
    },
    {
     "data": {
      "image/png": "[encoded data removed]",
      "text/plain": [
       "<Figure size 640x480 with 1 Axes>"
      ]
     },
     "metadata": {},
     "output_type": "display_data"
    }
   ],
   "source": [
    "# Checking the distribution in the training dataset\n",
    "y_lab = Counter(y_train)\n",
    "print(y_lab)\n",
    "plt.bar(y_lab.keys(), y_lab.values())\n",
    "plt.show()"
   ]
  },
  {
   "cell_type": "code",
   "execution_count": 32,
   "id": "46ae328e",
   "metadata": {},
   "outputs": [
    {
     "name": "stdout",
     "output_type": "stream",
     "text": [
      "Counter({2: 442, 0: 284, 1: 159})\n"
     ]
    },
    {
     "data": {
      "image/png": "[encoded data removed]",
      "text/plain": [
       "<Figure size 640x480 with 1 Axes>"
      ]
     },
     "metadata": {},
     "output_type": "display_data"
    }
   ],
   "source": [
    "# Checking the distribution in the test dataset\n",
    "y_lab_test = Counter(y_test)\n",
    "print(y_lab_test)\n",
    "plt.bar(y_lab_test.keys(), y_lab_test.values())\n",
    "plt.show()"
   ]
  },
  {
   "cell_type": "code",
   "execution_count": 33,
   "id": "0b9a1ecb",
   "metadata": {},
   "outputs": [],
   "source": [
    "# Scaling the data with StandardScaler\n",
    "scaler = StandardScaler()\n",
    "X_train_scaled = scaler.fit_transform(X_train.astype(np.float64))\n",
    "X_test_scaled = scaler.fit_transform(X_test.astype(np.float64))"
   ]
  },
  {
   "cell_type": "code",
   "execution_count": 34,
   "id": "f5fda0b3",
   "metadata": {},
   "outputs": [
    {
     "name": "stdout",
     "output_type": "stream",
     "text": [
      "X_train(max): Marital status                                       6.000000\n",
      "Application mode                                    53.000000\n",
      "Application order                                    9.000000\n",
      "Course                                            9991.000000\n",
      "Daytime/evening attendance\\t                         1.000000\n",
      "Previous qualification                              43.000000\n",
      "Previous qualification (grade)                     190.000000\n",
      "Nacionality                                        109.000000\n",
      "Mother's qualification                              44.000000\n",
      "Father's qualification                              44.000000\n",
      "Mother's occupation                                194.000000\n",
      "Father's occupation                                195.000000\n",
      "Admission grade                                    190.000000\n",
      "Displaced                                            1.000000\n",
      "Educational special needs                            1.000000\n",
      "Debtor                                               1.000000\n",
      "Tuition fees up to date                              1.000000\n",
      "Gender                                               1.000000\n",
      "Scholarship holder                                   1.000000\n",
      "Age at enrollment                                   70.000000\n",
      "International                                        1.000000\n",
      "Curricular units 1st sem (credited)                 20.000000\n",
      "Curricular units 1st sem (enrolled)                 23.000000\n",
      "Curricular units 1st sem (evaluations)              45.000000\n",
      "Curricular units 1st sem (approved)                 21.000000\n",
      "Curricular units 1st sem (grade)                    18.875000\n",
      "Curricular units 1st sem (without evaluations)      12.000000\n",
      "Curricular units 2nd sem (credited)                 19.000000\n",
      "Curricular units 2nd sem (enrolled)                 23.000000\n",
      "Curricular units 2nd sem (evaluations)              33.000000\n",
      "Curricular units 2nd sem (approved)                 20.000000\n",
      "Curricular units 2nd sem (grade)                    18.571429\n",
      "Curricular units 2nd sem (without evaluations)      12.000000\n",
      "Unemployment rate                                   16.200000\n",
      "Inflation rate                                       3.700000\n",
      "GDP                                                  3.510000\n",
      "dtype: float64\n",
      "X_train(min): Marital status                                     1.00\n",
      "Application mode                                   1.00\n",
      "Application order                                  0.00\n",
      "Course                                            33.00\n",
      "Daytime/evening attendance\\t                       0.00\n",
      "Previous qualification                             1.00\n",
      "Previous qualification (grade)                    95.00\n",
      "Nacionality                                        1.00\n",
      "Mother's qualification                             1.00\n",
      "Father's qualification                             1.00\n",
      "Mother's occupation                                0.00\n",
      "Father's occupation                                0.00\n",
      "Admission grade                                   95.00\n",
      "Displaced                                          0.00\n",
      "Educational special needs                          0.00\n",
      "Debtor                                             0.00\n",
      "Tuition fees up to date                            0.00\n",
      "Gender                                             0.00\n",
      "Scholarship holder                                 0.00\n",
      "Age at enrollment                                 17.00\n",
      "International                                      0.00\n",
      "Curricular units 1st sem (credited)                0.00\n",
      "Curricular units 1st sem (enrolled)                0.00\n",
      "Curricular units 1st sem (evaluations)             0.00\n",
      "Curricular units 1st sem (approved)                0.00\n",
      "Curricular units 1st sem (grade)                   0.00\n",
      "Curricular units 1st sem (without evaluations)     0.00\n",
      "Curricular units 2nd sem (credited)                0.00\n",
      "Curricular units 2nd sem (enrolled)                0.00\n",
      "Curricular units 2nd sem (evaluations)             0.00\n",
      "Curricular units 2nd sem (approved)                0.00\n",
      "Curricular units 2nd sem (grade)                   0.00\n",
      "Curricular units 2nd sem (without evaluations)     0.00\n",
      "Unemployment rate                                  7.60\n",
      "Inflation rate                                    -0.80\n",
      "GDP                                               -4.06\n",
      "dtype: float64\n",
      "X_train_scaled(max): 16.702\n",
      "X_train_scaled(min): -4.334\n",
      "X_train(mean): Marital status                                       1.171\n",
      "Application mode                                    18.405\n",
      "Application order                                    1.739\n",
      "Course                                            8869.078\n",
      "Daytime/evening attendance\\t                         0.894\n",
      "Previous qualification                               4.526\n",
      "Previous qualification (grade)                     132.589\n",
      "Nacionality                                          1.946\n",
      "Mother's qualification                              19.569\n",
      "Father's qualification                              22.351\n",
      "Mother's occupation                                 11.042\n",
      "Father's occupation                                 11.115\n",
      "Admission grade                                    126.937\n",
      "Displaced                                            0.549\n",
      "Educational special needs                            0.012\n",
      "Debtor                                               0.110\n",
      "Tuition fees up to date                              0.881\n",
      "Gender                                               0.351\n",
      "Scholarship holder                                   0.251\n",
      "Age at enrollment                                   23.217\n",
      "International                                        0.027\n",
      "Curricular units 1st sem (credited)                  0.677\n",
      "Curricular units 1st sem (enrolled)                  6.244\n",
      "Curricular units 1st sem (evaluations)               8.273\n",
      "Curricular units 1st sem (approved)                  4.687\n",
      "Curricular units 1st sem (grade)                    10.624\n",
      "Curricular units 1st sem (without evaluations)       0.142\n",
      "Curricular units 2nd sem (credited)                  0.507\n",
      "Curricular units 2nd sem (enrolled)                  6.204\n",
      "Curricular units 2nd sem (evaluations)               8.006\n",
      "Curricular units 2nd sem (approved)                  4.407\n",
      "Curricular units 2nd sem (grade)                    10.208\n",
      "Curricular units 2nd sem (without evaluations)       0.145\n",
      "Unemployment rate                                   11.554\n",
      "Inflation rate                                       1.248\n",
      "GDP                                                  0.006\n",
      "dtype: float64\n",
      "X_train_scaled(mean): 0.0\n",
      "X_train(std): Marital status                                       0.586\n",
      "Application mode                                    17.337\n",
      "Application order                                    1.324\n",
      "Course                                            2038.635\n",
      "Daytime/evening attendance\\t                         0.307\n",
      "Previous qualification                              10.137\n",
      "Previous qualification (grade)                      13.260\n",
      "Nacionality                                          7.160\n",
      "Mother's qualification                              15.632\n",
      "Father's qualification                              15.354\n",
      "Mother's occupation                                 26.460\n",
      "Father's occupation                                 25.300\n",
      "Admission grade                                     14.467\n",
      "Displaced                                            0.498\n",
      "Educational special needs                            0.107\n",
      "Debtor                                               0.313\n",
      "Tuition fees up to date                              0.324\n",
      "Gender                                               0.477\n",
      "Scholarship holder                                   0.434\n",
      "Age at enrollment                                    7.565\n",
      "International                                        0.162\n",
      "Curricular units 1st sem (credited)                  2.285\n",
      "Curricular units 1st sem (enrolled)                  2.431\n",
      "Curricular units 1st sem (evaluations)               4.174\n",
      "Curricular units 1st sem (approved)                  3.063\n",
      "Curricular units 1st sem (grade)                     4.855\n",
      "Curricular units 1st sem (without evaluations)       0.710\n",
      "Curricular units 2nd sem (credited)                  1.848\n",
      "Curricular units 2nd sem (enrolled)                  2.146\n",
      "Curricular units 2nd sem (evaluations)               3.910\n",
      "Curricular units 2nd sem (approved)                  2.982\n",
      "Curricular units 2nd sem (grade)                     5.236\n",
      "Curricular units 2nd sem (without evaluations)       0.738\n",
      "Unemployment rate                                    2.670\n",
      "Inflation rate                                       1.381\n",
      "GDP                                                  2.266\n",
      "dtype: float64\n",
      "X_train_scaled(std): 1.0\n"
     ]
    },
    {
     "name": "stderr",
     "output_type": "stream",
     "text": [
      "/Users/nima/opt/anaconda3/lib/python3.9/site-packages/numpy/core/fromnumeric.py:84: FutureWarning: In a future version, DataFrame.max(axis=None) will return a scalar max over the entire DataFrame. To retain the old behavior, use 'frame.max(axis=0)' or just 'frame.max()'\n",
      "  return reduction(axis=axis, out=out, **passkwargs)\n",
      "/Users/nima/opt/anaconda3/lib/python3.9/site-packages/numpy/core/fromnumeric.py:84: FutureWarning: In a future version, DataFrame.min(axis=None) will return a scalar min over the entire DataFrame. To retain the old behavior, use 'frame.min(axis=0)' or just 'frame.min()'\n",
      "  return reduction(axis=axis, out=out, **passkwargs)\n",
      "/Users/nima/opt/anaconda3/lib/python3.9/site-packages/numpy/core/fromnumeric.py:3438: FutureWarning: In a future version, DataFrame.mean(axis=None) will return a scalar mean over the entire DataFrame. To retain the old behavior, use 'frame.mean(axis=0)' or just 'frame.mean()'\n",
      "  return mean(axis=axis, dtype=dtype, out=out, **kwargs)\n"
     ]
    }
   ],
   "source": [
    "print('X_train(max):', np.max(X_train))\n",
    "print('X_train(min):', np.min(X_train))\n",
    "print('X_train_scaled(max):', round(np.max(X_train_scaled), 3))\n",
    "print('X_train_scaled(min):', round(np.min(X_train_scaled), 3))\n",
    "print('X_train(mean):', round(np.mean(X_train), 3))\n",
    "print('X_train_scaled(mean):', round(np.mean(X_train_scaled), 3))\n",
    "print('X_train(std):', round(np.std(X_train), 3))\n",
    "print('X_train_scaled(std):', round(np.std(X_train_scaled), 3))"
   ]
  },
  {
   "cell_type": "markdown",
   "id": "7ca17d80",
   "metadata": {},
   "source": [
    "### 3. MODEL DEVELOPMENT"
   ]
  },
  {
   "cell_type": "markdown",
   "id": "74395e44",
   "metadata": {},
   "source": [
    "- Choosing Models\n",
    "- Training Models\n",
    "- Evaluating Models\n",
    "- Parameter Tuning\n"
   ]
  },
  {
   "cell_type": "code",
   "execution_count": 102,
   "id": "6fc9592f",
   "metadata": {},
   "outputs": [],
   "source": [
    "# Models\n",
    "from sklearn.linear_model import LogisticRegression\n",
    "from sklearn.naive_bayes import GaussianNB\n",
    "from sklearn.neighbors import KNeighborsClassifier\n",
    "from sklearn.tree import DecisionTreeClassifier\n",
    "from sklearn.ensemble import RandomForestClassifier\n",
    "from sklearn.svm import SVC\n",
    "from sklearn.neural_network import MLPClassifier\n",
    "from sklearn.linear_model import SGDClassifier\n",
    "from sklearn.ensemble import GradientBoostingClassifier\n",
    "from sklearn.ensemble import AdaBoostClassifier\n",
    "from sklearn.discriminant_analysis import LinearDiscriminantAnalysis\n",
    "from sklearn.discriminant_analysis import QuadraticDiscriminantAnalysis\n",
    "from sklearn.gaussian_process import GaussianProcessClassifier\n",
    "from sklearn.linear_model import Perceptron\n",
    "from sklearn.naive_bayes import BernoulliNB\n",
    "\n",
    "lr = LogisticRegression()\n",
    "gnb = GaussianNB()\n",
    "knn = KNeighborsClassifier()\n",
    "dt = DecisionTreeClassifier()\n",
    "rf = RandomForestClassifier()\n",
    "svc = SVC()\n",
    "nn = MLPClassifier(max_iter=1000)\n",
    "sgd = SGDClassifier()\n",
    "gbc = GradientBoostingClassifier()\n",
    "abc = AdaBoostClassifier()\n",
    "lda = LinearDiscriminantAnalysis()\n",
    "qda = QuadraticDiscriminantAnalysis()\n",
    "la = Lasso()\n",
    "en = ElasticNet()\n",
    "gpc = GaussianProcessClassifier()\n",
    "pt = Perceptron()\n",
    "bnb = BernoulliNB()"
   ]
  },
  {
   "cell_type": "code",
   "execution_count": 93,
   "id": "842e7a78",
   "metadata": {},
   "outputs": [],
   "source": [
    "lr.fit(X_train_scaled, y_train)\n",
    "y_pred = lr.predict(X_train_scaled)\n",
    "y_pred_test = lr.predict(X_test_scaled)\n",
    "tacc1 = round(accuracy_score(y_train, y_pred), 2)\n",
    "acc1 = round(accuracy_score(y_test, y_pred_test), 2)\n",
    "prec1 = round(precision_score(y_test, y_pred_test, average='weighted'), 2)\n",
    "rec1 = round(recall_score(y_test, y_pred_test, average='weighted'), 2)\n",
    "f1sco1 = round(f1_score(y_test, y_pred_test, average='weighted'), 2)"
   ]
  },
  {
   "cell_type": "code",
   "execution_count": 94,
   "id": "6a152804",
   "metadata": {},
   "outputs": [],
   "source": [
    "gnb.fit(X_train_scaled, y_train)\n",
    "y_pred = gnb.predict(X_train_scaled)\n",
    "y_pred_test = gnb.predict(X_test_scaled)\n",
    "tacc2 = round(accuracy_score(y_train, y_pred), 2)\n",
    "acc2 = round(accuracy_score(y_test, y_pred_test), 2)\n",
    "prec2 = round(precision_score(y_test, y_pred_test, average='weighted'), 2)\n",
    "rec2 = round(recall_score(y_test, y_pred_test, average='weighted'), 2)\n",
    "f1sco2 = round(f1_score(y_test, y_pred_test, average='weighted'), 2)"
   ]
  },
  {
   "cell_type": "code",
   "execution_count": 95,
   "id": "9003266a",
   "metadata": {},
   "outputs": [],
   "source": [
    "knn.fit(X_train_scaled, y_train)\n",
    "y_pred = knn.predict(X_train_scaled)\n",
    "y_pred_test = knn.predict(X_test_scaled)\n",
    "tacc3 = round(accuracy_score(y_train, y_pred), 2)\n",
    "acc3 = round(accuracy_score(y_test, y_pred_test), 2)\n",
    "prec3 = round(precision_score(y_test, y_pred_test, average='weighted'), 2)\n",
    "rec3 = round(recall_score(y_test, y_pred_test, average='weighted'), 2)\n",
    "f1sco3 = round(f1_score(y_test, y_pred_test, average='weighted'), 2)"
   ]
  },
  {
   "cell_type": "code",
   "execution_count": 96,
   "id": "92fa9132",
   "metadata": {},
   "outputs": [],
   "source": [
    "dt.fit(X_train, y_train)\n",
    "y_pred = dt.predict(X_train)\n",
    "y_pred_test = dt.predict(X_test)\n",
    "tacc4 = round(accuracy_score(y_train, y_pred), 2)\n",
    "acc4 = round(accuracy_score(y_test, y_pred_test), 2)\n",
    "prec4 = round(precision_score(y_test, y_pred_test, average='weighted'), 2)\n",
    "rec4 = round(recall_score(y_test, y_pred_test, average='weighted'), 2)\n",
    "f1sco4 = round(f1_score(y_test, y_pred_test, average='weighted'), 2)"
   ]
  },
  {
   "cell_type": "code",
   "execution_count": 97,
   "id": "853991c4",
   "metadata": {},
   "outputs": [],
   "source": [
    "rf.fit(X_train_scaled, y_train)\n",
    "y_pred = rf.predict(X_train_scaled)\n",
    "y_pred_test = rf.predict(X_test_scaled)\n",
    "tacc5 = round(accuracy_score(y_train, y_pred), 2)\n",
    "acc5 = round(accuracy_score(y_test, y_pred_test), 2)\n",
    "prec5 = round(precision_score(y_test, y_pred_test, average='weighted'), 2)\n",
    "rec5 = round(recall_score(y_test, y_pred_test, average='weighted'), 2)\n",
    "f1sco5 = round(f1_score(y_test, y_pred_test, average='weighted'), 2)"
   ]
  },
  {
   "cell_type": "code",
   "execution_count": 98,
   "id": "4c4a4b10",
   "metadata": {},
   "outputs": [],
   "source": [
    "svc.fit(X_train_scaled, y_train)\n",
    "y_pred = svc.predict(X_train_scaled)\n",
    "y_pred_test = svc.predict(X_test_scaled)\n",
    "tacc6 = round(accuracy_score(y_train, y_pred), 2)\n",
    "acc6 = round(accuracy_score(y_test, y_pred_test), 2)\n",
    "prec6 = round(precision_score(y_test, y_pred_test, average='weighted'), 2)\n",
    "rec6 = round(recall_score(y_test, y_pred_test, average='weighted'), 2)\n",
    "f1sco6 = round(f1_score(y_test, y_pred_test, average='weighted'), 2)"
   ]
  },
  {
   "cell_type": "code",
   "execution_count": 103,
   "id": "61470a4c",
   "metadata": {},
   "outputs": [],
   "source": [
    "nn.fit(X_train_scaled, y_train)\n",
    "y_pred = nn.predict(X_train_scaled)\n",
    "y_pred_test = nn.predict(X_test_scaled)\n",
    "tacc7 = round(accuracy_score(y_train, y_pred), 2)\n",
    "acc7 = round(accuracy_score(y_test, y_pred_test), 2)\n",
    "prec7 = round(precision_score(y_test, y_pred_test, average='weighted'), 2)\n",
    "rec7 = round(recall_score(y_test, y_pred_test, average='weighted'), 2)\n",
    "f1sco7 = round(f1_score(y_test, y_pred_test, average='weighted'), 2)"
   ]
  },
  {
   "cell_type": "code",
   "execution_count": 104,
   "id": "6dfabe2c",
   "metadata": {},
   "outputs": [],
   "source": [
    "sgd.fit(X_train_scaled, y_train)\n",
    "y_pred = sgd.predict(X_train_scaled)\n",
    "y_pred_test = sgd.predict(X_test_scaled)\n",
    "tacc8 = round(accuracy_score(y_train, y_pred), 2)\n",
    "acc8 = round(accuracy_score(y_test, y_pred_test), 2)\n",
    "prec8 = round(precision_score(y_test, y_pred_test, average='weighted'), 2)\n",
    "rec8 = round(recall_score(y_test, y_pred_test, average='weighted'), 2)\n",
    "f1sco8 = round(f1_score(y_test, y_pred_test, average='weighted'), 2)"
   ]
  },
  {
   "cell_type": "code",
   "execution_count": 105,
   "id": "bb4a46d4",
   "metadata": {},
   "outputs": [],
   "source": [
    "gbc.fit(X_train_scaled, y_train)\n",
    "y_pred = gbc.predict(X_train_scaled)\n",
    "y_pred_test = gbc.predict(X_test_scaled)\n",
    "tacc9 = round(accuracy_score(y_train, y_pred), 2)\n",
    "acc9 = round(accuracy_score(y_test, y_pred_test), 2)\n",
    "prec9 = round(precision_score(y_test, y_pred_test, average='weighted'), 2)\n",
    "rec9 = round(recall_score(y_test, y_pred_test, average='weighted'), 2)\n",
    "f1sco9 = round(f1_score(y_test, y_pred_test, average='weighted'), 2)"
   ]
  },
  {
   "cell_type": "code",
   "execution_count": 106,
   "id": "68403ae3",
   "metadata": {},
   "outputs": [],
   "source": [
    "abc.fit(X_train_scaled, y_train)\n",
    "y_pred = abc.predict(X_train_scaled)\n",
    "y_pred_test = abc.predict(X_test_scaled)\n",
    "tacc10 = round(accuracy_score(y_train, y_pred), 2)\n",
    "acc10 = round(accuracy_score(y_test, y_pred_test), 2)\n",
    "prec10 = round(precision_score(y_test, y_pred_test, average='weighted'), 2)\n",
    "rec10 = round(recall_score(y_test, y_pred_test, average='weighted'), 2)\n",
    "f1sco10 = round(f1_score(y_test, y_pred_test, average='weighted'), 2)"
   ]
  },
  {
   "cell_type": "code",
   "execution_count": 107,
   "id": "c9fdfcb4",
   "metadata": {},
   "outputs": [],
   "source": [
    "lda.fit(X_train_scaled, y_train)\n",
    "y_pred = lda.predict(X_train_scaled)\n",
    "y_pred_test = lda.predict(X_test_scaled)\n",
    "tacc11 = round(accuracy_score(y_train, y_pred), 2)\n",
    "acc11 = round(accuracy_score(y_test, y_pred_test), 2)\n",
    "prec11 = round(precision_score(y_test, y_pred_test, average='weighted'), 2)\n",
    "rec11 = round(recall_score(y_test, y_pred_test, average='weighted'), 2)\n",
    "f1sco11 = round(f1_score(y_test, y_pred_test, average='weighted'), 2)"
   ]
  },
  {
   "cell_type": "code",
   "execution_count": 108,
   "id": "487187fb",
   "metadata": {},
   "outputs": [],
   "source": [
    "qda.fit(X_train_scaled, y_train)\n",
    "y_pred = qda.predict(X_train_scaled)\n",
    "y_pred_test = qda.predict(X_test_scaled)\n",
    "tacc12 = round(accuracy_score(y_train, y_pred), 2)\n",
    "acc12 = round(accuracy_score(y_test, y_pred_test), 2)\n",
    "prec12 = round(precision_score(y_test, y_pred_test, average='weighted'), 2)\n",
    "rec12 = round(recall_score(y_test, y_pred_test, average='weighted'), 2)\n",
    "f1sco12 = round(f1_score(y_test, y_pred_test, average='weighted'), 2)"
   ]
  },
  {
   "cell_type": "code",
   "execution_count": 109,
   "id": "96c68b13",
   "metadata": {},
   "outputs": [],
   "source": [
    "gpc.fit(X_train_scaled, y_train)\n",
    "y_pred = gpc.predict(X_train_scaled)\n",
    "y_pred_test = gpc.predict(X_test_scaled)\n",
    "tacc13 = round(accuracy_score(y_train, y_pred), 2)\n",
    "acc13 = round(accuracy_score(y_test, y_pred_test), 2)\n",
    "prec13 = round(precision_score(y_test, y_pred_test, average='weighted'), 2)\n",
    "rec13 = round(recall_score(y_test, y_pred_test, average='weighted'), 2)\n",
    "f1sco13 = round(f1_score(y_test, y_pred_test, average='weighted'), 2)"
   ]
  },
  {
   "cell_type": "code",
   "execution_count": 110,
   "id": "2e46acd6",
   "metadata": {},
   "outputs": [],
   "source": [
    "pt.fit(X_train_scaled, y_train)\n",
    "y_pred = pt.predict(X_train_scaled)\n",
    "y_pred_test = pt.predict(X_test_scaled)\n",
    "tacc14 = round(accuracy_score(y_train, y_pred), 2)\n",
    "acc14 = round(accuracy_score(y_test, y_pred_test), 2)\n",
    "prec14 = round(precision_score(y_test, y_pred_test, average='weighted'), 2)\n",
    "rec14 = round(recall_score(y_test, y_pred_test, average='weighted'), 2)\n",
    "f1sco14 = round(f1_score(y_test, y_pred_test, average='weighted'), 2)"
   ]
  },
  {
   "cell_type": "markdown",
   "id": "504837c7",
   "metadata": {},
   "source": [
    "<a id=\"change-bnb-fit\"></a>"
   ]
  },
  {
   "cell_type": "code",
   "execution_count": 4,
   "id": "7f4c3bb0",
   "metadata": {},
   "outputs": [],
   "source": [
    "# Was using the variable names as pt.fit section, (<name>14), changed it to <name>15 so it works with the summary\n",
    "\n",
    "bnb.fit(X_train_scaled, y_train)\n",
    "y_pred = bnb.predict(X_train_scaled)\n",
    "y_pred_test = bnb.predict(X_test_scaled)\n",
    "tacc15 = round(accuracy_score(y_train, y_pred), 2)\n",
    "acc15 = round(accuracy_score(y_test, y_pred_test), 2)\n",
    "prec15 = round(precision_score(y_test, y_pred_test, average='weighted'), 2)\n",
    "rec15 = round(recall_score(y_test, y_pred_test, average='weighted'), 2)\n",
    "f1sco15 = round(f1_score(y_test, y_pred_test, average='weighted'), 2)"
   ]
  },
  {
   "cell_type": "code",
   "execution_count": 112,
   "id": "19e99447",
   "metadata": {},
   "outputs": [
    {
     "data": {
      "text/html": [
       "<div>\n",
       "<style scoped>\n",
       "    .dataframe tbody tr th:only-of-type {\n",
       "        vertical-align: middle;\n",
       "    }\n",
       "\n",
       "    .dataframe tbody tr th {\n",
       "        vertical-align: top;\n",
       "    }\n",
       "\n",
       "    .dataframe thead th {\n",
       "        text-align: right;\n",
       "    }\n",
       "</style>\n",
       "<table border=\"1\" class=\"dataframe\">\n",
       "  <thead>\n",
       "    <tr style=\"text-align: right;\">\n",
       "      <th></th>\n",
       "      <th>Train Accuracy</th>\n",
       "      <th>Test Accuracy</th>\n",
       "      <th>Test Precision</th>\n",
       "      <th>Test Recall</th>\n",
       "      <th>Test F1-score</th>\n",
       "    </tr>\n",
       "  </thead>\n",
       "  <tbody>\n",
       "    <tr>\n",
       "      <th>Logistic Regression</th>\n",
       "      <td>0.7700</td>\n",
       "      <td>0.76</td>\n",
       "      <td>0.75</td>\n",
       "      <td>0.76</td>\n",
       "      <td>0.75</td>\n",
       "    </tr>\n",
       "    <tr>\n",
       "      <th>Gaussian Naive Bayes</th>\n",
       "      <td>0.6900</td>\n",
       "      <td>0.68</td>\n",
       "      <td>0.66</td>\n",
       "      <td>0.68</td>\n",
       "      <td>0.67</td>\n",
       "    </tr>\n",
       "    <tr>\n",
       "      <th>KNN</th>\n",
       "      <td>0.7900</td>\n",
       "      <td>0.67</td>\n",
       "      <td>0.66</td>\n",
       "      <td>0.67</td>\n",
       "      <td>0.66</td>\n",
       "    </tr>\n",
       "    <tr>\n",
       "      <th>Decision Tree</th>\n",
       "      <td>1.0000</td>\n",
       "      <td>0.67</td>\n",
       "      <td>0.67</td>\n",
       "      <td>0.67</td>\n",
       "      <td>0.76</td>\n",
       "    </tr>\n",
       "    <tr>\n",
       "      <th>Random Forest</th>\n",
       "      <td>1.0000</td>\n",
       "      <td>0.78</td>\n",
       "      <td>0.76</td>\n",
       "      <td>0.78</td>\n",
       "      <td>0.76</td>\n",
       "    </tr>\n",
       "    <tr>\n",
       "      <th>SVC</th>\n",
       "      <td>0.8200</td>\n",
       "      <td>0.77</td>\n",
       "      <td>0.76</td>\n",
       "      <td>0.77</td>\n",
       "      <td>0.76</td>\n",
       "    </tr>\n",
       "    <tr>\n",
       "      <th>MLP</th>\n",
       "      <td>1.0000</td>\n",
       "      <td>0.68</td>\n",
       "      <td>0.69</td>\n",
       "      <td>0.68</td>\n",
       "      <td>0.69</td>\n",
       "    </tr>\n",
       "    <tr>\n",
       "      <th>SGD</th>\n",
       "      <td>0.7500</td>\n",
       "      <td>0.73</td>\n",
       "      <td>0.71</td>\n",
       "      <td>0.73</td>\n",
       "      <td>0.71</td>\n",
       "    </tr>\n",
       "    <tr>\n",
       "      <th>Gradient Boosting</th>\n",
       "      <td>0.8400</td>\n",
       "      <td>0.77</td>\n",
       "      <td>0.76</td>\n",
       "      <td>0.77</td>\n",
       "      <td>0.76</td>\n",
       "    </tr>\n",
       "    <tr>\n",
       "      <th>AdaBoost</th>\n",
       "      <td>0.7600</td>\n",
       "      <td>0.76</td>\n",
       "      <td>0.74</td>\n",
       "      <td>0.76</td>\n",
       "      <td>0.75</td>\n",
       "    </tr>\n",
       "    <tr>\n",
       "      <th>LinearDiscriminantAnalysis</th>\n",
       "      <td>0.7600</td>\n",
       "      <td>0.78</td>\n",
       "      <td>0.77</td>\n",
       "      <td>0.78</td>\n",
       "      <td>0.77</td>\n",
       "    </tr>\n",
       "    <tr>\n",
       "      <th>QuadraticDiscriminantAnalysis</th>\n",
       "      <td>0.7500</td>\n",
       "      <td>0.72</td>\n",
       "      <td>0.72</td>\n",
       "      <td>0.72</td>\n",
       "      <td>0.72</td>\n",
       "    </tr>\n",
       "    <tr>\n",
       "      <th>Gaussian Process</th>\n",
       "      <td>0.9800</td>\n",
       "      <td>0.69</td>\n",
       "      <td>0.68</td>\n",
       "      <td>0.69</td>\n",
       "      <td>0.68</td>\n",
       "    </tr>\n",
       "    <tr>\n",
       "      <th>Perceptron</th>\n",
       "      <td>0.7300</td>\n",
       "      <td>0.73</td>\n",
       "      <td>0.71</td>\n",
       "      <td>0.73</td>\n",
       "      <td>0.72</td>\n",
       "    </tr>\n",
       "    <tr>\n",
       "      <th>Bernoulli Naive Bayes</th>\n",
       "      <td>0.9763</td>\n",
       "      <td>0.69</td>\n",
       "      <td>0.68</td>\n",
       "      <td>0.69</td>\n",
       "      <td>0.68</td>\n",
       "    </tr>\n",
       "  </tbody>\n",
       "</table>\n",
       "</div>"
      ],
      "text/plain": [
       "                               Train Accuracy  Test Accuracy  Test Precision  \\\n",
       "Logistic Regression                    0.7700           0.76            0.75   \n",
       "Gaussian Naive Bayes                   0.6900           0.68            0.66   \n",
       "KNN                                    0.7900           0.67            0.66   \n",
       "Decision Tree                          1.0000           0.67            0.67   \n",
       "Random Forest                          1.0000           0.78            0.76   \n",
       "SVC                                    0.8200           0.77            0.76   \n",
       "MLP                                    1.0000           0.68            0.69   \n",
       "SGD                                    0.7500           0.73            0.71   \n",
       "Gradient Boosting                      0.8400           0.77            0.76   \n",
       "AdaBoost                               0.7600           0.76            0.74   \n",
       "LinearDiscriminantAnalysis             0.7600           0.78            0.77   \n",
       "QuadraticDiscriminantAnalysis          0.7500           0.72            0.72   \n",
       "Gaussian Process                       0.9800           0.69            0.68   \n",
       "Perceptron                             0.7300           0.73            0.71   \n",
       "Bernoulli Naive Bayes                  0.9763           0.69            0.68   \n",
       "\n",
       "                               Test Recall  Test F1-score  \n",
       "Logistic Regression                   0.76           0.75  \n",
       "Gaussian Naive Bayes                  0.68           0.67  \n",
       "KNN                                   0.67           0.66  \n",
       "Decision Tree                         0.67           0.76  \n",
       "Random Forest                         0.78           0.76  \n",
       "SVC                                   0.77           0.76  \n",
       "MLP                                   0.68           0.69  \n",
       "SGD                                   0.73           0.71  \n",
       "Gradient Boosting                     0.77           0.76  \n",
       "AdaBoost                              0.76           0.75  \n",
       "LinearDiscriminantAnalysis            0.78           0.77  \n",
       "QuadraticDiscriminantAnalysis         0.72           0.72  \n",
       "Gaussian Process                      0.69           0.68  \n",
       "Perceptron                            0.73           0.72  \n",
       "Bernoulli Naive Bayes                 0.69           0.68  "
      ]
     },
     "metadata": {},
     "output_type": "display_data"
    }
   ],
   "source": [
    "summary = pd.DataFrame({'Train Accuracy':[tacc1, tacc2, tacc3, tacc4, tacc5, tacc6, tacc7, tacc8, tacc9, tacc10, tacc11, tacc12, tacc13, tacc14, tacc15],\\\n",
    "                        'Test Accuracy':[acc1, acc2, acc3, acc4, acc5, acc6, acc7, acc8, acc9, acc10, acc11, acc12, acc13, acc14, acc15],\\\n",
    "                   'Test Precision':[prec1, prec2, prec3, prec4, prec5, prec6, prec7, prec8, prec9, prec10, prec11, prec12, prec13, prec14, prec15],\\\n",
    "                   'Test Recall':[rec1, rec2, rec3, rec4, rec5, rec6, rec7, rec8, rec9, rec10, rec11, rec12, rec13, rec14, rec15],\\\n",
    "                   'Test F1-score':[f1sco1, f1sco2, f1sco3, f1sco6, f1sco5, f1sco6, f1sco7, f1sco8, f1sco9, f1sco10, f1sco11, f1sco12, f1sco13, f1sco14, f1sco15]},\\\n",
    "                   index=['Logistic Regression', 'Gaussian Naive Bayes', 'KNN', 'Decision Tree', 'Random Forest', 'SVC', 'MLP', 'SGD', 'Gradient Boosting', 'AdaBoost', 'LinearDiscriminantAnalysis', 'QuadraticDiscriminantAnalysis', 'Gaussian Process', 'Perceptron', 'Bernoulli Naive Bayes'])\n",
    "display(summary)"
   ]
  },
  {
   "cell_type": "markdown",
   "id": "34550bad",
   "metadata": {},
   "source": [
    "The summary shows that the models Logistic Regression, Random Forest, Gradient Boosting and SVC have the most potential for further investigation. These will be chosen for the Hyperparameter Tuning and for Ensemble method."
   ]
  },
  {
   "cell_type": "code",
   "execution_count": null,
   "id": "33faeeac",
   "metadata": {},
   "outputs": [],
   "source": []
  },
  {
   "cell_type": "code",
   "execution_count": 133,
   "id": "03caad8e",
   "metadata": {},
   "outputs": [],
   "source": [
    "from sklearn.ensemble import VotingClassifier\n",
    "\n",
    "lr = LogisticRegression()\n",
    "#create our voting classifier\n",
    "ensemble = VotingClassifier(estimators=[('lr', lr), ('rf', rf), ('gbc', gbc), ('svc', svc)], voting='hard', n_jobs=-1)"
   ]
  },
  {
   "cell_type": "code",
   "execution_count": 137,
   "id": "9ba75098",
   "metadata": {},
   "outputs": [
    {
     "name": "stdout",
     "output_type": "stream",
     "text": [
      "0.8578694546482057\n",
      "0.7796610169491526\n"
     ]
    }
   ],
   "source": [
    "#fit model to training data\n",
    "ensemble.fit(X_train_scaled, y_train)\n",
    "\n",
    "#test our model on the test data\n",
    "print(ensemble.score(X_train_scaled, y_train))\n",
    "print(ensemble.score(X_test_scaled, y_test))"
   ]
  },
  {
   "cell_type": "code",
   "execution_count": 400,
   "id": "55cf26db",
   "metadata": {},
   "outputs": [],
   "source": [
    "# Hyperparameters\n",
    "params_lr = {'C':[0.001, 0.01, 0.1, 1, 10, 100],\n",
    "             'solver':['lbfgs', 'saga', 'sag', 'liblinear'],\n",
    "             'max_iter':[300]}\n",
    "\n",
    "params_svc = {'kernel':['linear', 'poly', 'rbf'],\n",
    "              'C':[0.001, 0.01, 0.1, 1, 10, 100, 1000],\n",
    "              'gamma':['scale', 'auto', 0.1, 1, 10, 100],\n",
    "              'coef0':[0, 1]}\n",
    "\n",
    "params_rf = {'bootstrap': [True, False],\n",
    "             'max_depth': [1, 5, 10, 20, 30, 40, 50, 60, 70, 80, 90, 100, None],\n",
    "             'max_features': ['auto', 'sqrt', 'log2', None],\n",
    "             'min_samples_leaf': [1, 2, 4, 10, 30, 60],\n",
    "             'min_samples_split': [2, 5, 10],\n",
    "             'n_estimators': [10, 50, 100, 200, 500, 1000, 1500, 2000]}\n",
    "\n",
    "# max_iter = epochs\n",
    "\n",
    "# RandomizedSearchCV\n",
    "racv_lr = RandomizedSearchCV(lr, params_lr, n_jobs=-1, cv=5)\n",
    "racv_svc = RandomizedSearchCV(svc, params_svc, n_jobs=-1, cv=5)\n",
    "racv_rf = RandomizedSearchCV(rf, params_rf, n_jobs=-1, cv=5)\n",
    "racv_nn = RandomizedSearchCV(nn, params_nn, n_jobs=-1, cv=5)"
   ]
  },
  {
   "cell_type": "code",
   "execution_count": 374,
   "id": "a51e5371",
   "metadata": {},
   "outputs": [
    {
     "name": "stdout",
     "output_type": "stream",
     "text": [
      "CPU times: user 345 ms, sys: 17.4 ms, total: 363 ms\n",
      "Wall time: 774 ms\n"
     ]
    },
    {
     "data": {
      "text/plain": [
       "RandomizedSearchCV(cv=5, estimator=LogisticRegression(), n_jobs=-1,\n",
       "                   param_distributions={'C': [0.001, 0.01, 0.1, 1, 10, 100],\n",
       "                                        'max_iter': [300],\n",
       "                                        'solver': ['lbfgs', 'saga', 'sag',\n",
       "                                                   'liblinear']})"
      ]
     },
     "execution_count": 374,
     "metadata": {},
     "output_type": "execute_result"
    }
   ],
   "source": [
    "%%time\n",
    "# RandomizedSearchCV lr\n",
    "racv_lr.fit(X_train_scaled, y_train)"
   ]
  },
  {
   "cell_type": "code",
   "execution_count": 375,
   "id": "dabe6325",
   "metadata": {},
   "outputs": [
    {
     "name": "stdout",
     "output_type": "stream",
     "text": [
      "{'solver': 'lbfgs', 'max_iter': 300, 'C': 10}\n",
      "LogisticRegression(C=10, max_iter=300)\n",
      "Accuracy with optimized hyperparameters: 0.7694247996228194\n",
      "Accuracy with default hyperparameters: 0.7799\n"
     ]
    }
   ],
   "source": [
    "# Print best hyperparameter settings after tuning\n",
    "print(racv_lr.best_params_)\n",
    "# Print best score\n",
    "print('Accuracy with optimized hyperparameters:', racv_lr.best_score_)\n",
    "print('Accuracy with default hyperparameters:', lr_acc)"
   ]
  },
  {
   "cell_type": "code",
   "execution_count": 376,
   "id": "295a49c6",
   "metadata": {},
   "outputs": [
    {
     "name": "stdout",
     "output_type": "stream",
     "text": [
      "CPU times: user 24.8 s, sys: 53.9 ms, total: 24.9 s\n",
      "Wall time: 56.6 s\n"
     ]
    },
    {
     "data": {
      "text/plain": [
       "RandomizedSearchCV(cv=5, estimator=SVC(), n_jobs=-1,\n",
       "                   param_distributions={'C': [0.001, 0.01, 0.1, 1, 10, 100,\n",
       "                                              1000],\n",
       "                                        'coef0': [0, 1],\n",
       "                                        'gamma': ['scale', 'auto', 0.1, 1, 10,\n",
       "                                                  100],\n",
       "                                        'kernel': ['linear', 'poly', 'rbf']})"
      ]
     },
     "execution_count": 376,
     "metadata": {},
     "output_type": "execute_result"
    }
   ],
   "source": [
    "%%time\n",
    "# RandomizedSearchCV svc\n",
    "racv_svc.fit(X_train_scaled, y_train)"
   ]
  },
  {
   "cell_type": "code",
   "execution_count": 377,
   "id": "f32e28a0",
   "metadata": {},
   "outputs": [
    {
     "name": "stdout",
     "output_type": "stream",
     "text": [
      "{'kernel': 'linear', 'gamma': 'auto', 'coef0': 1, 'C': 100}\n",
      "SVC(C=100, coef0=1, gamma='auto', kernel='linear')\n",
      "Accuracy with optimized hyperparameters: 0.7691451106369718\n",
      "Accuracy with default hyperparameters: 0.8203\n"
     ]
    }
   ],
   "source": [
    "# Print best hyperparameter settings after tuning\n",
    "print(racv_svc.best_params_)\n",
    "# Print best score\n",
    "print('Accuracy with optimized hyperparameters:', racv_svc.best_score_)\n",
    "print('Accuracy with default hyperparameters:', svc_acc)"
   ]
  },
  {
   "cell_type": "code",
   "execution_count": 378,
   "id": "9039efda",
   "metadata": {},
   "outputs": [
    {
     "name": "stdout",
     "output_type": "stream",
     "text": [
      "CPU times: user 3.01 s, sys: 113 ms, total: 3.12 s\n",
      "Wall time: 40.2 s\n"
     ]
    },
    {
     "data": {
      "text/plain": [
       "RandomizedSearchCV(cv=5, estimator=RandomForestClassifier(), n_jobs=-1,\n",
       "                   param_distributions={'bootstrap': [True, False],\n",
       "                                        'max_depth': [1, 5, 10, 20, 30, 40, 50,\n",
       "                                                      60, 70, 80, 90, 100,\n",
       "                                                      None],\n",
       "                                        'max_features': ['auto', 'sqrt', 'log2',\n",
       "                                                         None],\n",
       "                                        'min_samples_leaf': [1, 2, 4, 10, 30,\n",
       "                                                             60],\n",
       "                                        'min_samples_split': [2, 5, 10],\n",
       "                                        'n_estimators': [10, 50, 100, 200, 500,\n",
       "                                                         1000, 1500, 2000]})"
      ]
     },
     "execution_count": 378,
     "metadata": {},
     "output_type": "execute_result"
    }
   ],
   "source": [
    "%%time\n",
    "# RandomizedSearchCV rf\n",
    "racv_rf.fit(X_train_scaled, y_train)"
   ]
  },
  {
   "cell_type": "code",
   "execution_count": 379,
   "id": "89af0c35",
   "metadata": {},
   "outputs": [
    {
     "name": "stdout",
     "output_type": "stream",
     "text": [
      "{'n_estimators': 500, 'min_samples_split': 5, 'min_samples_leaf': 2, 'max_features': 'sqrt', 'max_depth': 80, 'bootstrap': False}\n",
      "Accuracy with optimized hyperparameters: 0.7835510911866005\n",
      "Accuracy with default hyperparameters: 1.0\n"
     ]
    }
   ],
   "source": [
    "# Print best hyperparameter settings after tuning\n",
    "print(racv_rf.best_params_)\n",
    "# Print best score\n",
    "print('Accuracy with optimized hyperparameters:', racv_rf.best_score_)\n",
    "print('Accuracy with default hyperparameters:', rf_acc)"
   ]
  },
  {
   "cell_type": "code",
   "execution_count": null,
   "id": "443c3b37",
   "metadata": {},
   "outputs": [],
   "source": [
    "# balansera datasettet"
   ]
  },
  {
   "cell_type": "code",
   "execution_count": null,
   "id": "c12bf6de",
   "metadata": {},
   "outputs": [],
   "source": [
    "# remove enrolled, balansera datasettet"
   ]
  },
  {
   "cell_type": "code",
   "execution_count": null,
   "id": "e12cb6ce",
   "metadata": {},
   "outputs": [],
   "source": []
  },
  {
   "cell_type": "code",
   "execution_count": 318,
   "id": "b6e1ec34",
   "metadata": {},
   "outputs": [],
   "source": [
    "lr.fit(X_train_scaled, y_train)\n",
    "importance_lr = pd.DataFrame(data={\n",
    "    'attr': X_train.columns,\n",
    "    'im_lr': lr.coef_[0]\n",
    "})\n",
    "importance_lr = importance_lr.sort_values(by='im_lr', ascending=False)"
   ]
  },
  {
   "cell_type": "code",
   "execution_count": 319,
   "id": "d9591da7",
   "metadata": {},
   "outputs": [
    {
     "data": {
      "image/png": "[encoded data removed]",
      "text/plain": [
       "<Figure size 1152x432 with 1 Axes>"
      ]
     },
     "metadata": {
      "needs_background": "light"
     },
     "output_type": "display_data"
    }
   ],
   "source": [
    "plt.figure(figsize=(16,6))\n",
    "plt.bar(x=importance_lr['attr'], height=importance_lr['im_lr'])\n",
    "plt.title('Logistic Regression, feature importances obtained from coefficients', size=10)\n",
    "plt.xticks(rotation='vertical')\n",
    "plt.show()"
   ]
  },
  {
   "cell_type": "code",
   "execution_count": 320,
   "id": "b5439c08",
   "metadata": {},
   "outputs": [],
   "source": [
    "rf.fit(X_train_scaled, y_train)\n",
    "importance_rf = pd.DataFrame(data={\n",
    "    'attr': X_train.columns,\n",
    "    'im_rf': rf.feature_importances_\n",
    "})\n",
    "importance_rf = importance_rf.sort_values(by='im_rf', ascending=False)"
   ]
  },
  {
   "cell_type": "code",
   "execution_count": 327,
   "id": "4adcc027",
   "metadata": {},
   "outputs": [
    {
     "data": {
      "image/png": "[encoded data removed]",
      "text/plain": [
       "<Figure size 1152x432 with 1 Axes>"
      ]
     },
     "metadata": {
      "needs_background": "light"
     },
     "output_type": "display_data"
    }
   ],
   "source": [
    "plt.figure(figsize=(16,6))\n",
    "plt.bar(x=importance_rf['attr'], height=importance_rf['im_rf'])\n",
    "plt.title('Random Forest, feature importances obtained from coefficients', size=10)\n",
    "plt.xticks(rotation='vertical')\n",
    "plt.show()"
   ]
  },
  {
   "cell_type": "code",
   "execution_count": null,
   "id": "89953f6e",
   "metadata": {},
   "outputs": [],
   "source": [
    "def f_importances(coef, names):\n",
    "    imp = coef\n",
    "    imp,names = zip(*sorted(zip(imp,names)))\n",
    "    plt.barh(range(len(names)), imp, align='center')\n",
    "    plt.yticks(range(len(names)), names)\n",
    "    plt.show()\n",
    "\n",
    "features_names = ['input1', 'input2']\n",
    "svm = svm.SVC(kernel='linear')\n",
    "svm.fit(X, Y)\n",
    "f_importances(svm.coef_, features_names)"
   ]
  },
  {
   "cell_type": "code",
   "execution_count": null,
   "id": "3e359f26",
   "metadata": {},
   "outputs": [],
   "source": []
  },
  {
   "cell_type": "markdown",
   "id": "3c4170ff",
   "metadata": {},
   "source": [
    "### 4. MODEL EVALUATION"
   ]
  },
  {
   "cell_type": "code",
   "execution_count": null,
   "id": "65bbdded",
   "metadata": {},
   "outputs": [],
   "source": []
  },
  {
   "cell_type": "code",
   "execution_count": null,
   "id": "3e699eee",
   "metadata": {},
   "outputs": [],
   "source": []
  },
  {
   "cell_type": "code",
   "execution_count": null,
   "id": "89ad82c4",
   "metadata": {},
   "outputs": [],
   "source": []
  },
  {
   "cell_type": "code",
   "execution_count": null,
   "id": "af7cc307",
   "metadata": {},
   "outputs": [],
   "source": []
  },
  {
   "cell_type": "code",
   "execution_count": null,
   "id": "2354b8ff",
   "metadata": {},
   "outputs": [],
   "source": []
  },
  {
   "cell_type": "markdown",
   "id": "654fa1b6",
   "metadata": {},
   "source": [
    "### 5. PROJECT CONCLUSIONS"
   ]
  },
  {
   "cell_type": "code",
   "execution_count": null,
   "id": "3bc0bfa7",
   "metadata": {},
   "outputs": [],
   "source": []
  },
  {
   "cell_type": "code",
   "execution_count": null,
   "id": "743a661f",
   "metadata": {},
   "outputs": [],
   "source": []
  },
  {
   "cell_type": "code",
   "execution_count": null,
   "id": "612319c8",
   "metadata": {},
   "outputs": [],
   "source": []
  },
  {
   "cell_type": "code",
   "execution_count": null,
   "id": "16f12e64",
   "metadata": {},
   "outputs": [],
   "source": []
  },
  {
   "cell_type": "code",
   "execution_count": null,
   "id": "d26a815d",
   "metadata": {},
   "outputs": [],
   "source": []
  }
 ],
 "metadata": {
  "kernelspec": {
   "display_name": "Python 3 (ipykernel)",
   "language": "python",
   "name": "python3"
  },
  "language_info": {
   "codemirror_mode": {
    "name": "ipython",
    "version": 3
   },
   "file_extension": ".py",
   "mimetype": "text/x-python",
   "name": "python",
   "nbconvert_exporter": "python",
   "pygments_lexer": "ipython3",
   "version": "3.9.12"
  }
 },
 "nbformat": 4,
 "nbformat_minor": 5
}
